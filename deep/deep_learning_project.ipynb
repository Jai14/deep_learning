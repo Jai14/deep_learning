{
 "cells": [
  {
   "cell_type": "code",
   "execution_count": 1,
   "metadata": {
    "id": "N2Shfb2ieD5_",
    "tags": []
   },
   "outputs": [],
   "source": [
    "import pandas as pd\n",
    "import zipfile\n",
    "import os\n",
    "import matplotlib.pyplot as plt\n",
    "import torch.optim as optim"
   ]
  },
  {
   "cell_type": "code",
   "execution_count": 2,
   "metadata": {
    "tags": []
   },
   "outputs": [
    {
     "name": "stdout",
     "output_type": "stream",
     "text": [
      "Collecting openpyxl\n",
      "  Using cached openpyxl-3.1.2-py2.py3-none-any.whl.metadata (2.5 kB)\n",
      "Collecting et-xmlfile (from openpyxl)\n",
      "  Using cached et_xmlfile-1.1.0-py3-none-any.whl.metadata (1.8 kB)\n",
      "Using cached openpyxl-3.1.2-py2.py3-none-any.whl (249 kB)\n",
      "Using cached et_xmlfile-1.1.0-py3-none-any.whl (4.7 kB)\n",
      "Installing collected packages: et-xmlfile, openpyxl\n",
      "Successfully installed et-xmlfile-1.1.0 openpyxl-3.1.2\n",
      "Note: you may need to restart the kernel to use updated packages.\n"
     ]
    }
   ],
   "source": [
    "pip install openpyxl"
   ]
  },
  {
   "cell_type": "code",
   "execution_count": 6,
   "metadata": {
    "id": "bBOaJ2XCyYXw",
    "tags": []
   },
   "outputs": [],
   "source": [
    "dataset_path = \"FETAL_PLANES_ZENODO.zip\"\n",
    "extracted_dir = \"FETAL_PLANES_ZENODO\"\n",
    "os.makedirs(extracted_dir, exist_ok=True)"
   ]
  },
  {
   "cell_type": "code",
   "execution_count": 7,
   "metadata": {
    "colab": {
     "base_uri": "https://localhost:8080/"
    },
    "id": "bm4daqoDykVO",
    "outputId": "334d6a76-a15e-4539-8ae0-24917d0388c9",
    "tags": []
   },
   "outputs": [
    {
     "name": "stdout",
     "output_type": "stream",
     "text": [
      "Dataset has been extracted.\n"
     ]
    }
   ],
   "source": [
    "with zipfile.ZipFile(dataset_path, 'r') as zip_ref:\n",
    "    zip_ref.extractall(extracted_dir)\n",
    "print(\"Dataset has been extracted.\")"
   ]
  },
  {
   "cell_type": "code",
   "execution_count": 3,
   "metadata": {
    "colab": {
     "base_uri": "https://localhost:8080/"
    },
    "id": "orkwlLlcCZUz",
    "outputId": "3d50b745-6c34-451b-f82a-8aaf62faddd1",
    "tags": []
   },
   "outputs": [
    {
     "name": "stdout",
     "output_type": "stream",
     "text": [
      "Current working directory: /home/jupyter/deep\n"
     ]
    }
   ],
   "source": [
    "current_directory = os.getcwd()\n",
    "print(\"Current working directory:\",current_directory)"
   ]
  },
  {
   "cell_type": "code",
   "execution_count": 4,
   "metadata": {
    "tags": []
   },
   "outputs": [],
   "source": [
    "directory_path = \"FETAL_PLANES_ZENODO/\"\n",
    "\n",
    "# Set the current directory to the desired path\n",
    "os.chdir(directory_path)"
   ]
  },
  {
   "cell_type": "code",
   "execution_count": 5,
   "metadata": {
    "tags": []
   },
   "outputs": [
    {
     "name": "stdout",
     "output_type": "stream",
     "text": [
      "Current working directory: /home/jupyter/deep/FETAL_PLANES_ZENODO\n"
     ]
    }
   ],
   "source": [
    "current_directory = os.getcwd()\n",
    "print(\"Current working directory:\",current_directory)"
   ]
  },
  {
   "cell_type": "code",
   "execution_count": 6,
   "metadata": {
    "colab": {
     "base_uri": "https://localhost:8080/"
    },
    "id": "BS2Rb0WKeP9R",
    "outputId": "7106e558-7fc6-453f-f258-5782c07f7b58",
    "tags": []
   },
   "outputs": [
    {
     "name": "stdout",
     "output_type": "stream",
     "text": [
      "Plane\n",
      "Other              4213\n",
      "Fetal brain        3092\n",
      "Fetal thorax       1718\n",
      "Maternal cervix    1626\n",
      "Fetal femur        1040\n",
      "Fetal abdomen       711\n",
      "Name: count, dtype: int64\n"
     ]
    }
   ],
   "source": [
    "# Load the CSV file into a DataFrame\n",
    "df = pd.read_excel(\"FETAL_PLANES_DB_data.xlsx\")\n",
    "\n",
    "# Check the unique values and their counts in the \"Plane\" column\n",
    "class_counts = df['Plane'].value_counts()\n",
    "\n",
    "# Display the result\n",
    "print(class_counts)"
   ]
  },
  {
   "cell_type": "markdown",
   "metadata": {
    "id": "z4nEfAKb4Clx"
   },
   "source": [
    "# Concat brain plane with plane"
   ]
  },
  {
   "cell_type": "code",
   "execution_count": 7,
   "metadata": {
    "id": "ewMb655J3zuM",
    "tags": []
   },
   "outputs": [
    {
     "data": {
      "text/plain": [
       "0                Other\n",
       "1                Other\n",
       "2                Other\n",
       "3                Other\n",
       "4                Other\n",
       "             ...      \n",
       "12395      Fetal femur\n",
       "12396    Fetal abdomen\n",
       "12397      Fetal brain\n",
       "12398      Fetal femur\n",
       "12399     Fetal thorax\n",
       "Name: Plane, Length: 12400, dtype: object"
      ]
     },
     "execution_count": 7,
     "metadata": {},
     "output_type": "execute_result"
    }
   ],
   "source": [
    "df['Plane']  #= df.apply(lambda row: row['Plane'] + ' ' + row['Brain_plane'] if row['Plane'] == 'Fetal brain' else row['Plane'], axis=1)"
   ]
  },
  {
   "cell_type": "code",
   "execution_count": 8,
   "metadata": {
    "colab": {
     "base_uri": "https://localhost:8080/"
    },
    "id": "xmlCDJSL4FZ4",
    "outputId": "08380218-c330-41b2-e083-66722ff5180a",
    "tags": []
   },
   "outputs": [
    {
     "name": "stdout",
     "output_type": "stream",
     "text": [
      "Plane\n",
      "Other              4213\n",
      "Fetal brain        3092\n",
      "Fetal thorax       1718\n",
      "Maternal cervix    1626\n",
      "Fetal femur        1040\n",
      "Fetal abdomen       711\n",
      "Name: count, dtype: int64\n",
      "The length of the df 12400\n"
     ]
    }
   ],
   "source": [
    "# Check the unique values and their counts in the \"Plane\" column\n",
    "class_counts = df['Plane'].value_counts()\n",
    "total_count = len(df)\n",
    "\n",
    "# Display the result\n",
    "print(class_counts)\n",
    "print(\"The length of the df\" , total_count)"
   ]
  },
  {
   "cell_type": "code",
   "execution_count": 9,
   "metadata": {
    "colab": {
     "base_uri": "https://localhost:8080/"
    },
    "id": "xbGGrXm_fMiS",
    "outputId": "d1fe51b7-c9de-494e-ef34-cff4235a5484",
    "tags": []
   },
   "outputs": [
    {
     "name": "stdout",
     "output_type": "stream",
     "text": [
      "Plane\n",
      "Other              33.975806\n",
      "Fetal brain        24.935484\n",
      "Fetal thorax       13.854839\n",
      "Maternal cervix    13.112903\n",
      "Fetal femur         8.387097\n",
      "Fetal abdomen       5.733871\n",
      "Name: count, dtype: float64\n"
     ]
    }
   ],
   "source": [
    "# Calculate the percentage for each class\n",
    "percentages = (class_counts / total_count) * 100\n",
    "\n",
    "# Display the result\n",
    "print(percentages)"
   ]
  },
  {
   "cell_type": "code",
   "execution_count": 10,
   "metadata": {
    "id": "DhOQPFhleXNe",
    "tags": []
   },
   "outputs": [],
   "source": [
    "from sklearn.utils import resample\n",
    "from sklearn.datasets import make_classification\n",
    "import numpy as np\n",
    "import matplotlib.pyplot as plt"
   ]
  },
  {
   "cell_type": "code",
   "execution_count": 11,
   "metadata": {
    "id": "pv3UCs87qhI0",
    "tags": []
   },
   "outputs": [],
   "source": [
    "randomly_selected_data = pd.DataFrame()\n",
    "target_count = 500"
   ]
  },
  {
   "cell_type": "code",
   "execution_count": 12,
   "metadata": {
    "id": "v6SFhmT-uT2C",
    "tags": []
   },
   "outputs": [],
   "source": [
    "for class_label in df['Plane'].unique():\n",
    "    # Select only the rows corresponding to the current class\n",
    "    class_data = df[df['Plane'] == class_label]\n",
    "\n",
    "    # Randomly sample 143 images from the current class\n",
    "    sampled_data = class_data.sample(n=target_count, random_state=42)\n",
    "\n",
    "    # Concatenate the sampled data with the overall randomly selected dataset\n",
    "    randomly_selected_data = pd.concat([randomly_selected_data, sampled_data])\n",
    "\n",
    "# Shuffle the randomly selected data\n",
    "randomly_selected_data = randomly_selected_data.sample(frac=1, random_state=42).reset_index(drop=True)"
   ]
  },
  {
   "cell_type": "code",
   "execution_count": 13,
   "metadata": {
    "colab": {
     "base_uri": "https://localhost:8080/",
     "height": 510
    },
    "id": "DZ82K8gVvCBi",
    "outputId": "218802d4-626b-4df9-cfbc-713cd1ca1188",
    "tags": []
   },
   "outputs": [
    {
     "data": {
      "text/html": [
       "<div>\n",
       "<style scoped>\n",
       "    .dataframe tbody tr th:only-of-type {\n",
       "        vertical-align: middle;\n",
       "    }\n",
       "\n",
       "    .dataframe tbody tr th {\n",
       "        vertical-align: top;\n",
       "    }\n",
       "\n",
       "    .dataframe thead th {\n",
       "        text-align: right;\n",
       "    }\n",
       "</style>\n",
       "<table border=\"1\" class=\"dataframe\">\n",
       "  <thead>\n",
       "    <tr style=\"text-align: right;\">\n",
       "      <th></th>\n",
       "      <th>Image_name</th>\n",
       "      <th>Patient_num</th>\n",
       "      <th>Plane</th>\n",
       "      <th>Brain_plane</th>\n",
       "      <th>Operator</th>\n",
       "      <th>US_Machine</th>\n",
       "      <th>Train</th>\n",
       "    </tr>\n",
       "  </thead>\n",
       "  <tbody>\n",
       "    <tr>\n",
       "      <th>0</th>\n",
       "      <td>Patient01229_Plane3_1_of_4</td>\n",
       "      <td>1229</td>\n",
       "      <td>Fetal brain</td>\n",
       "      <td>Trans-cerebellum</td>\n",
       "      <td>Op. 1</td>\n",
       "      <td>Voluson E6</td>\n",
       "      <td>0</td>\n",
       "    </tr>\n",
       "    <tr>\n",
       "      <th>1</th>\n",
       "      <td>Patient01146_Plane2_1_of_1</td>\n",
       "      <td>1146</td>\n",
       "      <td>Fetal abdomen</td>\n",
       "      <td>Not A Brain</td>\n",
       "      <td>Op. 1</td>\n",
       "      <td>Voluson E6</td>\n",
       "      <td>1</td>\n",
       "    </tr>\n",
       "    <tr>\n",
       "      <th>2</th>\n",
       "      <td>Patient01332_Plane3_3_of_4</td>\n",
       "      <td>1332</td>\n",
       "      <td>Fetal brain</td>\n",
       "      <td>Trans-thalamic</td>\n",
       "      <td>Op. 3</td>\n",
       "      <td>Aloka</td>\n",
       "      <td>0</td>\n",
       "    </tr>\n",
       "    <tr>\n",
       "      <th>3</th>\n",
       "      <td>Patient00890_Plane1_17_of_19</td>\n",
       "      <td>890</td>\n",
       "      <td>Other</td>\n",
       "      <td>Not A Brain</td>\n",
       "      <td>Op. 3</td>\n",
       "      <td>Aloka</td>\n",
       "      <td>1</td>\n",
       "    </tr>\n",
       "    <tr>\n",
       "      <th>4</th>\n",
       "      <td>Patient00942_Plane6_1_of_4</td>\n",
       "      <td>942</td>\n",
       "      <td>Fetal thorax</td>\n",
       "      <td>Not A Brain</td>\n",
       "      <td>Op. 1</td>\n",
       "      <td>Voluson E6</td>\n",
       "      <td>1</td>\n",
       "    </tr>\n",
       "    <tr>\n",
       "      <th>...</th>\n",
       "      <td>...</td>\n",
       "      <td>...</td>\n",
       "      <td>...</td>\n",
       "      <td>...</td>\n",
       "      <td>...</td>\n",
       "      <td>...</td>\n",
       "      <td>...</td>\n",
       "    </tr>\n",
       "    <tr>\n",
       "      <th>2995</th>\n",
       "      <td>Patient00811_Plane3_2_of_5</td>\n",
       "      <td>811</td>\n",
       "      <td>Fetal brain</td>\n",
       "      <td>Trans-ventricular</td>\n",
       "      <td>Op. 3</td>\n",
       "      <td>Aloka</td>\n",
       "      <td>1</td>\n",
       "    </tr>\n",
       "    <tr>\n",
       "      <th>2996</th>\n",
       "      <td>Patient01196_Plane2_1_of_1</td>\n",
       "      <td>1196</td>\n",
       "      <td>Fetal abdomen</td>\n",
       "      <td>Not A Brain</td>\n",
       "      <td>Op. 1</td>\n",
       "      <td>Voluson E6</td>\n",
       "      <td>1</td>\n",
       "    </tr>\n",
       "    <tr>\n",
       "      <th>2997</th>\n",
       "      <td>Patient01665_Plane2_1_of_1</td>\n",
       "      <td>1665</td>\n",
       "      <td>Fetal abdomen</td>\n",
       "      <td>Not A Brain</td>\n",
       "      <td>Op. 2</td>\n",
       "      <td>Voluson E6</td>\n",
       "      <td>0</td>\n",
       "    </tr>\n",
       "    <tr>\n",
       "      <th>2998</th>\n",
       "      <td>Patient00868_Plane2_1_of_2</td>\n",
       "      <td>868</td>\n",
       "      <td>Fetal abdomen</td>\n",
       "      <td>Not A Brain</td>\n",
       "      <td>Op. 3</td>\n",
       "      <td>Aloka</td>\n",
       "      <td>1</td>\n",
       "    </tr>\n",
       "    <tr>\n",
       "      <th>2999</th>\n",
       "      <td>Patient01668_Plane4_4_of_7</td>\n",
       "      <td>1668</td>\n",
       "      <td>Maternal cervix</td>\n",
       "      <td>Not A Brain</td>\n",
       "      <td>Op. 1</td>\n",
       "      <td>Voluson E6</td>\n",
       "      <td>0</td>\n",
       "    </tr>\n",
       "  </tbody>\n",
       "</table>\n",
       "<p>3000 rows × 7 columns</p>\n",
       "</div>"
      ],
      "text/plain": [
       "                        Image_name  Patient_num            Plane  \\\n",
       "0       Patient01229_Plane3_1_of_4         1229      Fetal brain   \n",
       "1       Patient01146_Plane2_1_of_1         1146    Fetal abdomen   \n",
       "2       Patient01332_Plane3_3_of_4         1332      Fetal brain   \n",
       "3     Patient00890_Plane1_17_of_19          890            Other   \n",
       "4       Patient00942_Plane6_1_of_4          942     Fetal thorax   \n",
       "...                            ...          ...              ...   \n",
       "2995    Patient00811_Plane3_2_of_5          811      Fetal brain   \n",
       "2996    Patient01196_Plane2_1_of_1         1196    Fetal abdomen   \n",
       "2997    Patient01665_Plane2_1_of_1         1665    Fetal abdomen   \n",
       "2998    Patient00868_Plane2_1_of_2          868    Fetal abdomen   \n",
       "2999    Patient01668_Plane4_4_of_7         1668  Maternal cervix   \n",
       "\n",
       "            Brain_plane Operator  US_Machine  Train   \n",
       "0      Trans-cerebellum    Op. 1  Voluson E6       0  \n",
       "1           Not A Brain    Op. 1  Voluson E6       1  \n",
       "2        Trans-thalamic    Op. 3       Aloka       0  \n",
       "3           Not A Brain    Op. 3       Aloka       1  \n",
       "4           Not A Brain    Op. 1  Voluson E6       1  \n",
       "...                 ...      ...         ...     ...  \n",
       "2995  Trans-ventricular    Op. 3       Aloka       1  \n",
       "2996        Not A Brain    Op. 1  Voluson E6       1  \n",
       "2997        Not A Brain    Op. 2  Voluson E6       0  \n",
       "2998        Not A Brain    Op. 3       Aloka       1  \n",
       "2999        Not A Brain    Op. 1  Voluson E6       0  \n",
       "\n",
       "[3000 rows x 7 columns]"
      ]
     },
     "execution_count": 13,
     "metadata": {},
     "output_type": "execute_result"
    }
   ],
   "source": [
    "randomly_selected_data"
   ]
  },
  {
   "cell_type": "code",
   "execution_count": 14,
   "metadata": {
    "colab": {
     "base_uri": "https://localhost:8080/"
    },
    "id": "490lMHP06BMw",
    "outputId": "a3cfba57-912d-4d5f-f1d9-4fa587522780",
    "tags": []
   },
   "outputs": [
    {
     "name": "stdout",
     "output_type": "stream",
     "text": [
      "Plane\n",
      "Fetal brain        500\n",
      "Fetal abdomen      500\n",
      "Other              500\n",
      "Fetal thorax       500\n",
      "Fetal femur        500\n",
      "Maternal cervix    500\n",
      "Name: count, dtype: int64\n",
      "The length of the df 3000\n"
     ]
    }
   ],
   "source": [
    "class_counts = randomly_selected_data['Plane'].value_counts()\n",
    "total_count = len(randomly_selected_data)\n",
    "\n",
    "# Display the result\n",
    "print(class_counts)\n",
    "print(\"The length of the df\" , total_count)"
   ]
  },
  {
   "cell_type": "code",
   "execution_count": 15,
   "metadata": {
    "colab": {
     "base_uri": "https://localhost:8080/"
    },
    "id": "DbRidWfw6I2U",
    "outputId": "1dc22e9b-7c0a-4e34-ea17-48e94ef8c4bf",
    "tags": []
   },
   "outputs": [
    {
     "name": "stdout",
     "output_type": "stream",
     "text": [
      "Plane\n",
      "Fetal brain        16.666667\n",
      "Fetal abdomen      16.666667\n",
      "Other              16.666667\n",
      "Fetal thorax       16.666667\n",
      "Fetal femur        16.666667\n",
      "Maternal cervix    16.666667\n",
      "Name: count, dtype: float64\n"
     ]
    }
   ],
   "source": [
    "# Calculate the percentage for each class\n",
    "percentages = (class_counts / total_count) * 100\n",
    "\n",
    "# Display the result\n",
    "print(percentages)"
   ]
  },
  {
   "cell_type": "code",
   "execution_count": 16,
   "metadata": {
    "id": "2JReCqkLGgCt",
    "tags": []
   },
   "outputs": [],
   "source": [
    "X,Y = randomly_selected_data[\"Image_name\"], randomly_selected_data[\"Plane\"]"
   ]
  },
  {
   "cell_type": "code",
   "execution_count": 17,
   "metadata": {
    "colab": {
     "base_uri": "https://localhost:8080/"
    },
    "id": "Ugxwle_jpYTS",
    "outputId": "d8d04aac-f223-4baa-bf89-cedb3ae10e62",
    "tags": []
   },
   "outputs": [
    {
     "name": "stdout",
     "output_type": "stream",
     "text": [
      "Original labels: 0           Fetal brain\n",
      "1         Fetal abdomen\n",
      "2           Fetal brain\n",
      "3                 Other\n",
      "4          Fetal thorax\n",
      "             ...       \n",
      "2995        Fetal brain\n",
      "2996      Fetal abdomen\n",
      "2997      Fetal abdomen\n",
      "2998      Fetal abdomen\n",
      "2999    Maternal cervix\n",
      "Name: Plane, Length: 3000, dtype: object\n",
      "Encoded labels: [1 0 1 ... 0 0 4]\n"
     ]
    }
   ],
   "source": [
    "from sklearn.preprocessing import LabelEncoder\n",
    "\n",
    "# Initialize LabelEncoder\n",
    "label_encoder = LabelEncoder()\n",
    "\n",
    "# Fit label encoder and transform Y\n",
    "Y_encoded = label_encoder.fit_transform(Y)\n",
    "\n",
    "print(\"Original labels:\", Y)\n",
    "print(\"Encoded labels:\", Y_encoded)"
   ]
  },
  {
   "cell_type": "code",
   "execution_count": 18,
   "metadata": {
    "id": "6BXK0_snHCyu",
    "tags": []
   },
   "outputs": [],
   "source": [
    "from sklearn.model_selection import train_test_split\n",
    "X_train, X_temp, y_train, y_temp = train_test_split(X, Y_encoded, test_size=0.3, random_state=42)\n",
    "X_val, X_test, y_val, y_test = train_test_split(X_temp, y_temp, test_size=0.5, random_state=42)"
   ]
  },
  {
   "cell_type": "code",
   "execution_count": 19,
   "metadata": {
    "id": "emHJif_V6PMj",
    "tags": []
   },
   "outputs": [],
   "source": [
    "import torch\n",
    "from torch.utils.data import Dataset\n",
    "from torchvision import transforms\n",
    "from PIL import Image"
   ]
  },
  {
   "cell_type": "code",
   "execution_count": 20,
   "metadata": {
    "id": "wmAWl64W8jYT",
    "tags": []
   },
   "outputs": [],
   "source": [
    "class FetailImageDataset(Dataset):\n",
    "    def __init__(self, X , Y, transform=None):\n",
    "        self.image_name = X\n",
    "        self.labels = Y\n",
    "        self.transform = transform\n",
    "\n",
    "    def __len__(self):\n",
    "        return len(self.labels)\n",
    "\n",
    "    def __getitem__(self, idx):\n",
    "        img_name = self.image_name.iloc[idx]\n",
    "        img_path = os.path.join(\"Images/\", img_name + \".png\")\n",
    "\n",
    "        # Open image\n",
    "        img = Image.open(img_path)\n",
    "\n",
    "        # Convert label to PyTorch tensor\n",
    "        label = self.labels[idx]\n",
    "\n",
    "        # Apply transforms if available\n",
    "        if self.transform:\n",
    "            img = self.transform(img)\n",
    "\n",
    "        return img, label"
   ]
  },
  {
   "cell_type": "code",
   "execution_count": 23,
   "metadata": {
    "id": "lmuGgT-Z8w-_",
    "tags": []
   },
   "outputs": [],
   "source": [
    "transform = transforms.Compose([\n",
    "    transforms.Resize((250, 250)),          # Resize image to a fixed size\n",
    "    transforms.RandomRotation(degrees=15),  # Random rotation by a maximum of 15 degrees\n",
    "    transforms.RandomHorizontalFlip(),      # Random horizontal flip with a probability of 0.5\n",
    "    transforms.Grayscale(num_output_channels=1),\n",
    "    transforms.ToTensor(),# Convert PIL image to tensor\n",
    "    transforms.Normalize(0.5, 0.5)\n",
    "])"
   ]
  },
  {
   "cell_type": "code",
   "execution_count": 24,
   "metadata": {
    "id": "jnc9Gbau83Ii",
    "tags": []
   },
   "outputs": [],
   "source": [
    "train_Dataset = FetailImageDataset(X_train,y_train, transform=transform)\n",
    "test_Dataset = FetailImageDataset(X_test,y_test, transform=transform)\n",
    "val_Dataset = FetailImageDataset(X_val,y_val, transform=transform)"
   ]
  },
  {
   "cell_type": "code",
   "execution_count": 24,
   "metadata": {
    "colab": {
     "base_uri": "https://localhost:8080/"
    },
    "id": "l79jeImTrwZb",
    "outputId": "dd4ffcfd-101f-4fe0-f0ec-bf072517453f",
    "tags": []
   },
   "outputs": [
    {
     "data": {
      "text/plain": [
       "5"
      ]
     },
     "execution_count": 24,
     "metadata": {},
     "output_type": "execute_result"
    }
   ],
   "source": [
    "y_train[0]"
   ]
  },
  {
   "cell_type": "code",
   "execution_count": 25,
   "metadata": {
    "id": "L0N6kxWoJCaz",
    "tags": []
   },
   "outputs": [],
   "source": [
    "from torch.utils.data import DataLoader"
   ]
  },
  {
   "cell_type": "code",
   "execution_count": 26,
   "metadata": {
    "id": "Gur2uTc8JC-o",
    "tags": []
   },
   "outputs": [],
   "source": [
    "batch_size = 2\n",
    "\n",
    "train_loader = DataLoader(train_Dataset, batch_size=batch_size, shuffle=True)\n",
    "test_loader = DataLoader(test_Dataset, batch_size=batch_size, shuffle=False)\n",
    "val_loader = DataLoader(val_Dataset, batch_size=batch_size, shuffle=False)"
   ]
  },
  {
   "cell_type": "code",
   "execution_count": 27,
   "metadata": {
    "id": "scE5CbB9JG5u",
    "tags": []
   },
   "outputs": [
    {
     "name": "stdout",
     "output_type": "stream",
     "text": [
      "Shape of the first image: torch.Size([1, 250, 250])\n",
      "Batch size: 2\n"
     ]
    }
   ],
   "source": [
    "# Assuming train_loader is your DataLoader object\n",
    "batch_idx = 0  # Index of the batch you want to retrieve\n",
    "\n",
    "# Get the first batch from the train_loader\n",
    "for batch_idx, (imgs, labels) in enumerate(train_loader):\n",
    "    if batch_idx == batch_idx:  # Check if this is the desired batch\n",
    "        break  # Stop iterating once the desired batch is retrieved\n",
    "\n",
    "# Now imgs and labels contain the data from the desired batch\n",
    "# Print the shape of the first image and the batch size\n",
    "print(\"Shape of the first image:\", imgs[0].shape)\n",
    "print(\"Batch size:\", len(imgs))"
   ]
  },
  {
   "cell_type": "code",
   "execution_count": 28,
   "metadata": {
    "id": "Jpa-KUqBqk8V",
    "tags": []
   },
   "outputs": [],
   "source": [
    "img ,label = train_Dataset[0]"
   ]
  },
  {
   "cell_type": "code",
   "execution_count": 29,
   "metadata": {
    "colab": {
     "base_uri": "https://localhost:8080/"
    },
    "id": "02q-IaOwqraW",
    "outputId": "2b102800-19ba-4bcf-cb3f-589e4ca44a3e",
    "tags": []
   },
   "outputs": [
    {
     "data": {
      "text/plain": [
       "torch.Size([1, 250, 250])"
      ]
     },
     "execution_count": 29,
     "metadata": {},
     "output_type": "execute_result"
    }
   ],
   "source": [
    "img.shape"
   ]
  },
  {
   "cell_type": "code",
   "execution_count": 27,
   "metadata": {
    "id": "OMyehJRLNrC4",
    "tags": []
   },
   "outputs": [],
   "source": [
    "def train(model, train_loader, test_loader, criterion, optimizer, num_epochs):\n",
    "\n",
    "    train_losses = []\n",
    "    test_losses = []\n",
    "    accuracies = []\n",
    "    best_test_loss = float('inf')\n",
    "    no_improvement_count = 0\n",
    "    patience = 4\n",
    "\n",
    "    for epoch in range(num_epochs):\n",
    "        model.train()  # Set model to training mode\n",
    "\n",
    "        running_loss = 0.0\n",
    "        for inputs, labels in train_loader:\n",
    "            inputs, labels = inputs.cuda(), labels.cuda()\n",
    "\n",
    "            optimizer.zero_grad()\n",
    "            outputs = model(inputs)  # Forward pass\n",
    "            loss = criterion(outputs, labels)  # Compute loss\n",
    "            \n",
    "            loss.backward()  # Backward pass\n",
    "            optimizer.step()  # Update model parameters\n",
    "\n",
    "            running_loss += loss.item() * inputs.size(0)\n",
    "\n",
    "        epoch_loss = running_loss / len(train_loader.sampler)\n",
    "        train_losses.append(epoch_loss)\n",
    "\n",
    "        \n",
    "\n",
    "        correct = 0\n",
    "        total = 0\n",
    "        test_loss = 0.0\n",
    "\n",
    "        \n",
    "        model.eval()  # Set model to evaluation mode\n",
    "        with torch.no_grad():  # Disable gradient calculation for inference\n",
    "            for inputs, labels in test_loader:\n",
    "                inputs, labels = inputs.cuda(), labels.cuda()\n",
    "\n",
    "                outputs = model(inputs)  # Forward pass\n",
    "                loss = criterion(outputs, labels)\n",
    "                test_loss += loss.item() * labels.size(0)\n",
    "\n",
    "                _, predicted = torch.max(outputs, 1)\n",
    "                total += labels.size(0)\n",
    "                correct += (predicted == labels).sum().item()\n",
    "\n",
    "        test_loss = test_loss / len(test_loader.sampler)\n",
    "        test_losses.append(test_loss)\n",
    "\n",
    "        accuracy = (correct / total) * 100\n",
    "        accuracies.append(accuracy)\n",
    "\n",
    "        print(f'Epoch [{epoch+1}/{num_epochs}], '\n",
    "              f'Training Loss: {epoch_loss:.4f}, '\n",
    "              f'Testing Loss: {test_loss:.4f}, '\n",
    "              f'Accuracy on test set: {accuracy:.2f}%')\n",
    "        \n",
    "        # Early stopping: check if test loss has stopped improving\n",
    "        if test_loss <= best_test_loss:\n",
    "            best_test_loss = test_loss\n",
    "            no_improvement_count = 0\n",
    "        else:\n",
    "            no_improvement_count += 1\n",
    "\n",
    "        if no_improvement_count >= patience:\n",
    "            print(f\"No improvement in test loss for {patience} epochs. Stopping training.\")\n",
    "            break\n",
    "\n",
    "    # Plot learning curve\n",
    "    plt.plot(range(1, len(train_losses) + 1), train_losses, label='Training Loss')\n",
    "    plt.plot(range(1, len(test_losses) + 1), test_losses, label='Test Loss')\n",
    "    plt.xlabel('Epoch')\n",
    "    plt.ylabel('Loss')\n",
    "    plt.title('Learning Curve')\n",
    "    plt.legend()\n",
    "    plt.show()\n",
    "\n",
    "    return train_losses, test_losses, accuracies"
   ]
  },
  {
   "cell_type": "code",
   "execution_count": 28,
   "metadata": {
    "id": "DT2j0ZXWKAFq",
    "tags": []
   },
   "outputs": [],
   "source": [
    "import torch\n",
    "import torch.nn as nn\n",
    "\n",
    "class fetalModel(nn.Module):\n",
    "    def __init__(self):\n",
    "        super(fetalModel, self).__init__()\n",
    "\n",
    "        # Define convolutional layer\n",
    "        self.conv1 = nn.Sequential(\n",
    "            nn.Conv2d(in_channels=1, out_channels=8, kernel_size=3, stride=1, padding=1),\n",
    "            nn.ReLU(),\n",
    "            nn.BatchNorm2d(8),\n",
    "            nn.MaxPool2d(kernel_size=3, stride=1)\n",
    "        )\n",
    "        \n",
    "        # Define convolutional layer\n",
    "        self.conv2 = nn.Sequential(\n",
    "            nn.Conv2d(in_channels=8, out_channels=16, kernel_size=2, stride=1, padding=1),\n",
    "            nn.ReLU(),\n",
    "            nn.BatchNorm2d(16),\n",
    "            nn.MaxPool2d(kernel_size=1, stride=1)\n",
    "        )\n",
    "        \n",
    "         # Define convolutional layer\n",
    "        self.conv3 = nn.Sequential(\n",
    "            nn.Conv2d(in_channels=16, out_channels=24, kernel_size=1, stride=1, padding=1),\n",
    "            nn.ReLU(),\n",
    "            nn.BatchNorm2d(24),\n",
    "            nn.MaxPool2d(kernel_size=1, stride=1)\n",
    "        )\n",
    "\n",
    "        # Define fully connected layers\n",
    "        self.fc = nn.Sequential(\n",
    "            nn.Linear(24*251*251, 200),\n",
    "            nn.ReLU(),\n",
    "            nn.Linear(200, 6)  # Adjusted to have 9 output labels\n",
    "        )\n",
    "\n",
    "    def forward(self, x):\n",
    "        # Apply convolutional layers\n",
    "        #print(x.shape)\n",
    "        x = self.conv1(x)\n",
    "        #print(x.shape)\n",
    "        x = self.conv2(x)\n",
    "        #print(x.shape)\n",
    "        x = self.conv3(x)\n",
    "        #print(x.shape)\n",
    "        \n",
    "        # Flatten the output before passing to fully connected layer\n",
    "        x = torch.flatten(x, start_dim=1)\n",
    "        #print(x.shape)\n",
    "        x = self.fc(x)\n",
    "        # Apply fully connected layers\n",
    "        #print(x.shape)\n",
    "\n",
    "        return x"
   ]
  },
  {
   "cell_type": "code",
   "execution_count": 29,
   "metadata": {
    "id": "h2jakL_T2H9I",
    "tags": []
   },
   "outputs": [],
   "source": [
    "def eval(model, val_loader, criterion, optimizer):\n",
    "\n",
    "  model.eval()  # Set model to evaluation mode\n",
    "\n",
    "  with torch.no_grad():  # Disable gradient calculation for inference\n",
    "      correct = 0\n",
    "      total = 0\n",
    "      for inputs, labels in val_loader:\n",
    "          # Forward pass\n",
    "          inputs,labels = inputs.cuda(),labels.cuda()\n",
    "\n",
    "          outputs = model(inputs)\n",
    "\n",
    "          # Get predicted labels\n",
    "          _, predicted = torch.max(outputs, 1)\n",
    "\n",
    "\n",
    "          total += labels.size(0)\n",
    "          correct += (predicted == labels).sum().item()\n",
    "\n",
    "  # Calculate accuracy\n",
    "  accuracy = (correct / total) * 100\n",
    "  print(f\"Accuracy on validation set: {accuracy:.2f}%\")"
   ]
  },
  {
   "cell_type": "code",
   "execution_count": 33,
   "metadata": {
    "id": "RPOqHdq9NRPs",
    "tags": []
   },
   "outputs": [],
   "source": [
    "learning_rate = 0.0001\n",
    "num_epochs = 20\n",
    "\n",
    "# Initialize model\n",
    "model = fetalModel().cuda()\n",
    "\n",
    "# Define loss function\n",
    "criterion = nn.CrossEntropyLoss()\n",
    "\n",
    "# Define optimizer\n",
    "optimizer = optim.Adam(model.parameters(), lr=learning_rate)"
   ]
  },
  {
   "cell_type": "code",
   "execution_count": 34,
   "metadata": {
    "colab": {
     "base_uri": "https://localhost:8080/",
     "height": 734
    },
    "id": "iPY-IfI3XlCG",
    "outputId": "84e48a98-bc7f-4de2-e706-ef115a524cc4",
    "tags": []
   },
   "outputs": [
    {
     "ename": "KeyboardInterrupt",
     "evalue": "",
     "output_type": "error",
     "traceback": [
      "\u001b[0;31m---------------------------------------------------------------------------\u001b[0m",
      "\u001b[0;31mKeyboardInterrupt\u001b[0m                         Traceback (most recent call last)",
      "Cell \u001b[0;32mIn[34], line 1\u001b[0m\n\u001b[0;32m----> 1\u001b[0m train_losses,test_losses,accuracy \u001b[38;5;241m=\u001b[39m \u001b[43mtrain\u001b[49m\u001b[43m(\u001b[49m\u001b[43mmodel\u001b[49m\u001b[43m,\u001b[49m\u001b[43m \u001b[49m\u001b[43mtrain_loader\u001b[49m\u001b[43m,\u001b[49m\u001b[43m \u001b[49m\u001b[43mtest_loader\u001b[49m\u001b[43m,\u001b[49m\u001b[43m \u001b[49m\u001b[43mcriterion\u001b[49m\u001b[43m,\u001b[49m\u001b[43m \u001b[49m\u001b[43moptimizer\u001b[49m\u001b[43m,\u001b[49m\u001b[43m \u001b[49m\u001b[43mnum_epochs\u001b[49m\u001b[43m)\u001b[49m\n",
      "Cell \u001b[0;32mIn[30], line 24\u001b[0m, in \u001b[0;36mtrain\u001b[0;34m(model, train_loader, test_loader, criterion, optimizer, num_epochs)\u001b[0m\n\u001b[1;32m     21\u001b[0m     loss\u001b[38;5;241m.\u001b[39mbackward()  \u001b[38;5;66;03m# Backward pass\u001b[39;00m\n\u001b[1;32m     22\u001b[0m     optimizer\u001b[38;5;241m.\u001b[39mstep()  \u001b[38;5;66;03m# Update model parameters\u001b[39;00m\n\u001b[0;32m---> 24\u001b[0m     running_loss \u001b[38;5;241m+\u001b[39m\u001b[38;5;241m=\u001b[39m \u001b[43mloss\u001b[49m\u001b[38;5;241;43m.\u001b[39;49m\u001b[43mitem\u001b[49m\u001b[43m(\u001b[49m\u001b[43m)\u001b[49m \u001b[38;5;241m*\u001b[39m inputs\u001b[38;5;241m.\u001b[39msize(\u001b[38;5;241m0\u001b[39m)\n\u001b[1;32m     26\u001b[0m epoch_loss \u001b[38;5;241m=\u001b[39m running_loss \u001b[38;5;241m/\u001b[39m \u001b[38;5;28mlen\u001b[39m(train_loader\u001b[38;5;241m.\u001b[39msampler)\n\u001b[1;32m     27\u001b[0m train_losses\u001b[38;5;241m.\u001b[39mappend(epoch_loss)\n",
      "\u001b[0;31mKeyboardInterrupt\u001b[0m: "
     ]
    }
   ],
   "source": [
    "train_losses,test_losses,accuracy = train(model, train_loader, test_loader, criterion, optimizer, num_epochs)"
   ]
  },
  {
   "cell_type": "code",
   "execution_count": 106,
   "metadata": {},
   "outputs": [
    {
     "name": "stdout",
     "output_type": "stream",
     "text": [
      "Accuracy on validation set: 80.44%\n"
     ]
    }
   ],
   "source": [
    "eval(model, val_loader, criterion, optimizer)"
   ]
  },
  {
   "cell_type": "code",
   "execution_count": 103,
   "metadata": {
    "tags": []
   },
   "outputs": [],
   "source": [
    "torch.save(model.state_dict(), 'modelV1.pth')"
   ]
  },
  {
   "cell_type": "code",
   "execution_count": 124,
   "metadata": {
    "tags": []
   },
   "outputs": [],
   "source": [
    "import torch\n",
    "import torch.nn as nn\n",
    "\n",
    "class fetalModelV2(nn.Module):\n",
    "    def __init__(self):\n",
    "        super(fetalModelV2, self).__init__()\n",
    "\n",
    "        # Define convolutional layer\n",
    "        self.conv1 = nn.Sequential(\n",
    "            nn.Conv2d(in_channels=1, out_channels=3, kernel_size=3, stride=2, padding=1),\n",
    "            nn.ReLU(),\n",
    "            nn.BatchNorm2d(3),\n",
    "            nn.MaxPool2d(kernel_size=1, stride=1)\n",
    "        )\n",
    "        \n",
    "        # Define convolutional layer\n",
    "        self.conv2 = nn.Sequential(\n",
    "            nn.Conv2d(in_channels=3, out_channels=6, kernel_size=3, stride=1, padding=1),\n",
    "            nn.ReLU(),\n",
    "            nn.BatchNorm2d(6),\n",
    "            nn.MaxPool2d(kernel_size=1, stride=1)\n",
    "        )\n",
    "        \n",
    "         # Define convolutional layer\n",
    "        self.conv3 = nn.Sequential(\n",
    "            nn.Conv2d(in_channels=6, out_channels=9, kernel_size=3, stride=1, padding=1),\n",
    "            nn.ReLU(),\n",
    "            nn.BatchNorm2d(9),\n",
    "            nn.MaxPool2d(kernel_size=1, stride=1)\n",
    "        )\n",
    "        \n",
    "         # Define convolutional layer\n",
    "        self.conv4 = nn.Sequential(\n",
    "            nn.Conv2d(in_channels=9, out_channels=18, kernel_size=3, stride=1, padding=1),\n",
    "            nn.ReLU(),\n",
    "            nn.BatchNorm2d(18),\n",
    "            nn.MaxPool2d(kernel_size=1, stride=1)\n",
    "        )\n",
    "        \n",
    "         # Define convolutional layer\n",
    "        self.conv5 = nn.Sequential(\n",
    "            nn.Conv2d(in_channels=18, out_channels=21, kernel_size=3, stride=1, padding=1),\n",
    "            nn.ReLU(),\n",
    "            nn.BatchNorm2d(21),\n",
    "            nn.MaxPool2d(kernel_size=1, stride=1)\n",
    "        )\n",
    "        \n",
    "\n",
    "        # Define fully connected layers\n",
    "        self.fc = nn.Sequential(\n",
    "            nn.Linear(21*125*125, 6),\n",
    "        )\n",
    "\n",
    "    def forward(self, x):\n",
    "        # Apply convolutional layers\n",
    "        #print(x.shape)\n",
    "        x = self.conv1(x)\n",
    "        #print(x.shape)\n",
    "        x = self.conv2(x)\n",
    "        #print(x.shape)\n",
    "        x = self.conv3(x)\n",
    "        #print(x.shape)\n",
    "        x = self.conv4(x)\n",
    "        #print(x.shape)\n",
    "        x = self.conv5(x)\n",
    "        #print(x.shape)\n",
    "        # Flatten the output before passing to fully connected layer\n",
    "        x = torch.flatten(x, start_dim=1)\n",
    "        #print(x.shape)\n",
    "        x = self.fc(x)\n",
    "        # Apply fully connected layers\n",
    "        #print(x.shape)\n",
    "\n",
    "        return x"
   ]
  },
  {
   "cell_type": "code",
   "execution_count": 129,
   "metadata": {
    "tags": []
   },
   "outputs": [],
   "source": [
    "learning_rate = 1e-5\n",
    "num_epochs = 50\n",
    "\n",
    "# Initialize model\n",
    "modelV2 = fetalModelV2().cuda()\n",
    "\n",
    "# Define loss function\n",
    "criterion = nn.CrossEntropyLoss()\n",
    "\n",
    "# Define optimizer\n",
    "optimizer = optim.Adam(modelV2.parameters(), lr=learning_rate)"
   ]
  },
  {
   "cell_type": "code",
   "execution_count": 130,
   "metadata": {
    "tags": []
   },
   "outputs": [
    {
     "name": "stdout",
     "output_type": "stream",
     "text": [
      "Epoch [1/50], Training Loss: 1.2699, Testing Loss: 1.6675, Accuracy on test set: 33.33%\n",
      "Epoch [2/50], Training Loss: 0.8720, Testing Loss: 0.8308, Accuracy on test set: 69.56%\n",
      "Epoch [3/50], Training Loss: 0.7748, Testing Loss: 0.8043, Accuracy on test set: 71.11%\n",
      "Epoch [4/50], Training Loss: 0.6897, Testing Loss: 0.7210, Accuracy on test set: 74.44%\n",
      "Epoch [5/50], Training Loss: 0.6404, Testing Loss: 0.6853, Accuracy on test set: 76.44%\n",
      "Epoch [6/50], Training Loss: 0.5925, Testing Loss: 0.6435, Accuracy on test set: 77.11%\n",
      "Epoch [7/50], Training Loss: 0.5792, Testing Loss: 0.6468, Accuracy on test set: 78.00%\n",
      "Epoch [8/50], Training Loss: 0.5283, Testing Loss: 0.6607, Accuracy on test set: 78.00%\n",
      "Epoch [9/50], Training Loss: 0.5127, Testing Loss: 0.6403, Accuracy on test set: 78.89%\n",
      "Epoch [10/50], Training Loss: 0.4917, Testing Loss: 0.6422, Accuracy on test set: 78.22%\n",
      "Epoch [11/50], Training Loss: 0.4664, Testing Loss: 0.6345, Accuracy on test set: 78.44%\n",
      "Epoch [12/50], Training Loss: 0.4466, Testing Loss: 0.6190, Accuracy on test set: 78.22%\n",
      "Epoch [13/50], Training Loss: 0.4259, Testing Loss: 0.6075, Accuracy on test set: 78.22%\n",
      "Epoch [14/50], Training Loss: 0.4063, Testing Loss: 0.6309, Accuracy on test set: 77.56%\n",
      "Epoch [15/50], Training Loss: 0.3827, Testing Loss: 0.5673, Accuracy on test set: 80.67%\n",
      "Epoch [16/50], Training Loss: 0.3863, Testing Loss: 0.5882, Accuracy on test set: 79.56%\n",
      "Epoch [17/50], Training Loss: 0.3595, Testing Loss: 0.6135, Accuracy on test set: 78.22%\n",
      "Epoch [18/50], Training Loss: 0.3467, Testing Loss: 0.5611, Accuracy on test set: 78.00%\n",
      "Epoch [19/50], Training Loss: 0.3151, Testing Loss: 0.5595, Accuracy on test set: 81.33%\n",
      "Epoch [20/50], Training Loss: 0.3160, Testing Loss: 0.5985, Accuracy on test set: 79.78%\n",
      "Epoch [21/50], Training Loss: 0.3143, Testing Loss: 0.5924, Accuracy on test set: 80.22%\n",
      "Epoch [22/50], Training Loss: 0.3005, Testing Loss: 0.6370, Accuracy on test set: 79.56%\n",
      "No improvement in test loss for 3 epochs. Stopping training.\n"
     ]
    },
    {
     "data": {
      "image/png": "[encoded data removed]",
      "text/plain": [
       "<Figure size 640x480 with 1 Axes>"
      ]
     },
     "metadata": {},
     "output_type": "display_data"
    }
   ],
   "source": [
    "train_losses,test_losses,accuracy = train(modelV2, train_loader, test_loader, criterion, optimizer, num_epochs)"
   ]
  },
  {
   "cell_type": "code",
   "execution_count": 131,
   "metadata": {
    "tags": []
   },
   "outputs": [
    {
     "name": "stdout",
     "output_type": "stream",
     "text": [
      "Accuracy on validation set: 79.78%\n"
     ]
    }
   ],
   "source": [
    "eval(modelV2, val_loader, criterion, optimizer)"
   ]
  },
  {
   "cell_type": "code",
   "execution_count": 141,
   "metadata": {
    "tags": []
   },
   "outputs": [
    {
     "ename": "NameError",
     "evalue": "name 'modelV2' is not defined",
     "output_type": "error",
     "traceback": [
      "\u001b[0;31m---------------------------------------------------------------------------\u001b[0m",
      "\u001b[0;31mNameError\u001b[0m                                 Traceback (most recent call last)",
      "Cell \u001b[0;32mIn[141], line 1\u001b[0m\n\u001b[0;32m----> 1\u001b[0m torch\u001b[38;5;241m.\u001b[39msave(\u001b[43mmodelV2\u001b[49m\u001b[38;5;241m.\u001b[39mstate_dict(), \u001b[38;5;124m'\u001b[39m\u001b[38;5;124mmodelV2.pth\u001b[39m\u001b[38;5;124m'\u001b[39m)\n",
      "\u001b[0;31mNameError\u001b[0m: name 'modelV2' is not defined"
     ]
    }
   ],
   "source": [
    "torch.save(modelV2.state_dict(), 'modelV2.pth')"
   ]
  },
  {
   "cell_type": "code",
   "execution_count": 113,
   "metadata": {
    "tags": []
   },
   "outputs": [],
   "source": [
    "import torch\n",
    "import torch.nn as nn\n",
    "\n",
    "class fetalModelV3(nn.Module):\n",
    "    def __init__(self):\n",
    "        super(fetalModelV3, self).__init__()\n",
    "\n",
    "        # Define convolutional layer\n",
    "        self.conv1 = nn.Sequential(\n",
    "            nn.Conv2d(in_channels=1, out_channels=12, kernel_size=5, stride=1, padding=1),\n",
    "            nn.ReLU(),\n",
    "            nn.BatchNorm2d(12),\n",
    "            nn.MaxPool2d(kernel_size=3, stride=1)\n",
    "        )\n",
    "        \n",
    "        # Define convolutional layer\n",
    "        self.conv2 = nn.Sequential(\n",
    "            nn.Conv2d(in_channels=12, out_channels=64, kernel_size=3, stride=2, padding=1),\n",
    "            nn.ReLU(),\n",
    "            nn.BatchNorm2d(64),\n",
    "            nn.MaxPool2d(kernel_size=1, stride=1)\n",
    "        )\n",
    "        \n",
    "         # Define convolutional layer\n",
    "        self.conv3 = nn.Sequential(\n",
    "            nn.Conv2d(in_channels=64, out_channels=128, kernel_size=3, stride=2, padding=1),\n",
    "            nn.ReLU(),\n",
    "            nn.BatchNorm2d(128),\n",
    "            nn.MaxPool2d(kernel_size=1, stride=1)\n",
    "        )\n",
    "        \n",
    "         # Define convolutional layer\n",
    "        self.conv4 = nn.Sequential(\n",
    "            nn.Conv2d(in_channels=128, out_channels=256, kernel_size=1, stride=1, padding=1),\n",
    "            nn.ReLU(),\n",
    "            nn.BatchNorm2d(256),\n",
    "            nn.MaxPool2d(kernel_size=1, stride=1)\n",
    "        )\n",
    "        \n",
    "\n",
    "        # Define fully connected layers\n",
    "        self.fc = nn.Sequential(\n",
    "            nn.Linear(256*64*64, 6),\n",
    "        )\n",
    "\n",
    "    def forward(self, x):\n",
    "        # Apply convolutional layers\n",
    "        #print(x.shape)\n",
    "        x = self.conv1(x)\n",
    "        #print(x.shape)\n",
    "        x = self.conv2(x)\n",
    "        #print(x.shape)\n",
    "        x = self.conv3(x)\n",
    "        #print(x.shape)\n",
    "        x = self.conv4(x)\n",
    "        #print(x.shape)\n",
    "        \n",
    "        # Flatten the output before passing to fully connected layer\n",
    "        x = torch.flatten(x, start_dim=1)\n",
    "        #print(x.shape)\n",
    "        x = self.fc(x)\n",
    "        # Apply fully connected layers\n",
    "        #print(x.shape)\n",
    "\n",
    "        return x"
   ]
  },
  {
   "cell_type": "code",
   "execution_count": 124,
   "metadata": {
    "tags": []
   },
   "outputs": [],
   "source": [
    "learning_rate = 1e-5\n",
    "num_epochs = 100\n",
    "\n",
    "# Initialize model\n",
    "modelV3 = fetalModelV3().cuda()\n",
    "\n",
    "# Define loss function\n",
    "criterion = nn.CrossEntropyLoss()\n",
    "\n",
    "# Define optimizer\n",
    "optimizer = optim.Adam(modelV3.parameters(), lr=learning_rate)"
   ]
  },
  {
   "cell_type": "code",
   "execution_count": 125,
   "metadata": {
    "tags": []
   },
   "outputs": [
    {
     "name": "stdout",
     "output_type": "stream",
     "text": [
      "Epoch [1/100], Training Loss: 0.9822, Testing Loss: 1.4160, Accuracy on test set: 50.44%\n",
      "Epoch [2/100], Training Loss: 0.6129, Testing Loss: 0.6139, Accuracy on test set: 77.33%\n",
      "Epoch [3/100], Training Loss: 0.4753, Testing Loss: 0.6290, Accuracy on test set: 76.67%\n",
      "Epoch [4/100], Training Loss: 0.4273, Testing Loss: 0.5891, Accuracy on test set: 78.00%\n",
      "Epoch [5/100], Training Loss: 0.3869, Testing Loss: 0.5716, Accuracy on test set: 80.22%\n",
      "Epoch [6/100], Training Loss: 0.3339, Testing Loss: 0.5309, Accuracy on test set: 82.89%\n",
      "Epoch [7/100], Training Loss: 0.3070, Testing Loss: 0.6422, Accuracy on test set: 80.22%\n",
      "Epoch [8/100], Training Loss: 0.2791, Testing Loss: 0.5709, Accuracy on test set: 79.11%\n",
      "Epoch [9/100], Training Loss: 0.2447, Testing Loss: 0.5179, Accuracy on test set: 83.33%\n",
      "Epoch [10/100], Training Loss: 0.2110, Testing Loss: 0.5376, Accuracy on test set: 82.44%\n",
      "Epoch [11/100], Training Loss: 0.1990, Testing Loss: 0.5366, Accuracy on test set: 83.78%\n",
      "Epoch [12/100], Training Loss: 0.1891, Testing Loss: 0.5719, Accuracy on test set: 80.22%\n",
      "No improvement in test loss for 3 epochs. Stopping training.\n"
     ]
    },
    {
     "data": {
      "image/png": "[encoded data removed]",
      "text/plain": [
       "<Figure size 640x480 with 1 Axes>"
      ]
     },
     "metadata": {},
     "output_type": "display_data"
    }
   ],
   "source": [
    "train_losses,test_losses,accuracy = train(modelV3, train_loader, test_loader, criterion, optimizer, num_epochs)"
   ]
  },
  {
   "cell_type": "code",
   "execution_count": 131,
   "metadata": {
    "tags": []
   },
   "outputs": [
    {
     "name": "stdout",
     "output_type": "stream",
     "text": [
      "Accuracy on validation set: 80.89%\n"
     ]
    }
   ],
   "source": [
    "eval(modelV3, val_loader, criterion, optimizer)"
   ]
  },
  {
   "cell_type": "code",
   "execution_count": 140,
   "metadata": {
    "tags": []
   },
   "outputs": [],
   "source": [
    "torch.save(modelV3.state_dict(), 'modelV3.pth')"
   ]
  },
  {
   "cell_type": "code",
   "execution_count": 46,
   "metadata": {
    "tags": []
   },
   "outputs": [],
   "source": [
    "import gc\n",
    "import torch\n",
    "\n",
    "def free_memory():\n",
    "    # Collect any garbage\n",
    "    gc.collect()\n",
    "    # Free up unoccupied cached memory\n",
    "    torch.cuda.empty_cache()\n",
    "\n",
    "# Example usage\n",
    "# Run your model or operations that require GPU usage\n",
    "# ...\n",
    "\n",
    "# Free up memory\n",
    "free_memory()\n"
   ]
  },
  {
   "cell_type": "markdown",
   "metadata": {},
   "source": [
    "Trying to run another set of learn on modelV3 to see if i can do better "
   ]
  },
  {
   "cell_type": "code",
   "execution_count": 132,
   "metadata": {
    "tags": []
   },
   "outputs": [
    {
     "name": "stdout",
     "output_type": "stream",
     "text": [
      "Epoch [1/100], Training Loss: 0.1622, Testing Loss: 0.5090, Accuracy on test set: 84.67%\n",
      "Epoch [2/100], Training Loss: 0.1599, Testing Loss: 0.5173, Accuracy on test set: 83.56%\n",
      "Epoch [3/100], Training Loss: 0.1649, Testing Loss: 0.5381, Accuracy on test set: 82.00%\n",
      "Epoch [4/100], Training Loss: 0.1501, Testing Loss: 0.5152, Accuracy on test set: 83.56%\n",
      "No improvement in test loss for 3 epochs. Stopping training.\n"
     ]
    },
    {
     "data": {
      "image/png": "[encoded data removed]",
      "text/plain": [
       "<Figure size 640x480 with 1 Axes>"
      ]
     },
     "metadata": {},
     "output_type": "display_data"
    },
    {
     "data": {
      "text/plain": [
       "([0.1622074218023391,\n",
       "  0.1598973877373196,\n",
       "  0.16492915818733828,\n",
       "  0.15011489746116458],\n",
       " [0.5090190056297514,\n",
       "  0.5173341665003035,\n",
       "  0.5380816029177772,\n",
       "  0.5151716636286842],\n",
       " [84.66666666666667, 83.55555555555556, 82.0, 83.55555555555556])"
      ]
     },
     "execution_count": 132,
     "metadata": {},
     "output_type": "execute_result"
    }
   ],
   "source": [
    "train(modelV3, train_loader, test_loader, criterion, optimizer, num_epochs)"
   ]
  },
  {
   "cell_type": "markdown",
   "metadata": {},
   "source": [
    "As we see as the model learns its under fitting clearly --> meaning it cant learn from the dataset "
   ]
  },
  {
   "cell_type": "code",
   "execution_count": 136,
   "metadata": {
    "tags": []
   },
   "outputs": [],
   "source": [
    "import torch\n",
    "import torch.nn as nn\n",
    "\n",
    "class fetalModelV4(nn.Module):\n",
    "    def __init__(self):\n",
    "        super(fetalModelV4, self).__init__()\n",
    "\n",
    "        # Define convolutional layer\n",
    "        self.conv1 = nn.Sequential(\n",
    "            nn.Conv2d(in_channels=1, out_channels=12, kernel_size=5, stride=1, padding=1),\n",
    "            nn.BatchNorm2d(12),\n",
    "            nn.ReLU(),\n",
    "            nn.MaxPool2d(kernel_size=3, stride=1)\n",
    "        )\n",
    "        \n",
    "        # Define convolutional layer\n",
    "        self.conv2 = nn.Sequential(\n",
    "            nn.Conv2d(in_channels=12, out_channels=64, kernel_size=3, stride=2, padding=1),\n",
    "            nn.BatchNorm2d(64),\n",
    "            nn.ReLU(),\n",
    "            nn.MaxPool2d(kernel_size=1, stride=1)\n",
    "        )\n",
    "        \n",
    "         # Define convolutional layer\n",
    "        self.conv3 = nn.Sequential(\n",
    "            nn.Conv2d(in_channels=64, out_channels=128, kernel_size=3, stride=2, padding=1),\n",
    "            nn.BatchNorm2d(128),\n",
    "            nn.ReLU(),\n",
    "            nn.MaxPool2d(kernel_size=1, stride=1)\n",
    "        )\n",
    "        \n",
    "         # Define convolutional layer\n",
    "        self.conv4 = nn.Sequential(\n",
    "            nn.Conv2d(in_channels=128, out_channels=256, kernel_size=1, stride=1, padding=1),\n",
    "            nn.BatchNorm2d(256),\n",
    "            nn.ReLU(),\n",
    "            nn.MaxPool2d(kernel_size=1, stride=1)\n",
    "        )\n",
    "        \n",
    "\n",
    "        # Define fully connected layers\n",
    "        self.fc = nn.Sequential(\n",
    "            nn.Linear(256*64*64, 6),\n",
    "        )\n",
    "\n",
    "    def forward(self, x):\n",
    "        # Apply convolutional layers\n",
    "        #print(x.shape)\n",
    "        x = self.conv1(x)\n",
    "        #print(x.shape)\n",
    "        x = self.conv2(x)\n",
    "        #print(x.shape)\n",
    "        x = self.conv3(x)\n",
    "        #print(x.shape)\n",
    "        x = self.conv4(x)\n",
    "        #print(x.shape)\n",
    "        \n",
    "        # Flatten the output before passing to fully connected layer\n",
    "        x = torch.flatten(x, start_dim=1)\n",
    "        #print(x.shape)\n",
    "        x = self.fc(x)\n",
    "        # Apply fully connected layers\n",
    "        #print(x.shape)\n",
    "\n",
    "        return x"
   ]
  },
  {
   "cell_type": "code",
   "execution_count": 137,
   "metadata": {
    "tags": []
   },
   "outputs": [],
   "source": [
    "learning_rate = 1e-5\n",
    "num_epochs = 100\n",
    "\n",
    "# Initialize model\n",
    "modelV4 = fetalModelV4().cuda()\n",
    "\n",
    "# Define loss function\n",
    "criterion = nn.CrossEntropyLoss()\n",
    "\n",
    "# Define optimizer\n",
    "optimizer = optim.Adam(modelV4.parameters(), lr=learning_rate)"
   ]
  },
  {
   "cell_type": "code",
   "execution_count": 147,
   "metadata": {
    "tags": []
   },
   "outputs": [
    {
     "ename": "KeyboardInterrupt",
     "evalue": "",
     "output_type": "error",
     "traceback": [
      "\u001b[0;31m---------------------------------------------------------------------------\u001b[0m",
      "\u001b[0;31mKeyboardInterrupt\u001b[0m                         Traceback (most recent call last)",
      "Cell \u001b[0;32mIn[147], line 1\u001b[0m\n\u001b[0;32m----> 1\u001b[0m train_losses,test_losses,accuracy \u001b[38;5;241m=\u001b[39m \u001b[43mtrain\u001b[49m\u001b[43m(\u001b[49m\u001b[43mmodelV4\u001b[49m\u001b[43m,\u001b[49m\u001b[43m \u001b[49m\u001b[43mtrain_loader\u001b[49m\u001b[43m,\u001b[49m\u001b[43m \u001b[49m\u001b[43mtest_loader\u001b[49m\u001b[43m,\u001b[49m\u001b[43m \u001b[49m\u001b[43mcriterion\u001b[49m\u001b[43m,\u001b[49m\u001b[43m \u001b[49m\u001b[43moptimizer\u001b[49m\u001b[43m,\u001b[49m\u001b[43m \u001b[49m\u001b[43mnum_epochs\u001b[49m\u001b[43m)\u001b[49m\n",
      "Cell \u001b[0;32mIn[35], line 24\u001b[0m, in \u001b[0;36mtrain\u001b[0;34m(model, train_loader, test_loader, criterion, optimizer, num_epochs)\u001b[0m\n\u001b[1;32m     21\u001b[0m     loss\u001b[38;5;241m.\u001b[39mbackward()  \u001b[38;5;66;03m# Backward pass\u001b[39;00m\n\u001b[1;32m     22\u001b[0m     optimizer\u001b[38;5;241m.\u001b[39mstep()  \u001b[38;5;66;03m# Update model parameters\u001b[39;00m\n\u001b[0;32m---> 24\u001b[0m     running_loss \u001b[38;5;241m+\u001b[39m\u001b[38;5;241m=\u001b[39m \u001b[43mloss\u001b[49m\u001b[38;5;241;43m.\u001b[39;49m\u001b[43mitem\u001b[49m\u001b[43m(\u001b[49m\u001b[43m)\u001b[49m \u001b[38;5;241m*\u001b[39m inputs\u001b[38;5;241m.\u001b[39msize(\u001b[38;5;241m0\u001b[39m)\n\u001b[1;32m     26\u001b[0m epoch_loss \u001b[38;5;241m=\u001b[39m running_loss \u001b[38;5;241m/\u001b[39m \u001b[38;5;28mlen\u001b[39m(train_loader\u001b[38;5;241m.\u001b[39msampler)\n\u001b[1;32m     27\u001b[0m train_losses\u001b[38;5;241m.\u001b[39mappend(epoch_loss)\n",
      "\u001b[0;31mKeyboardInterrupt\u001b[0m: "
     ]
    }
   ],
   "source": [
    "train_losses,test_losses,accuracy = train(modelV4, train_loader, test_loader, criterion, optimizer, num_epochs)"
   ]
  },
  {
   "cell_type": "code",
   "execution_count": 139,
   "metadata": {
    "tags": []
   },
   "outputs": [
    {
     "name": "stdout",
     "output_type": "stream",
     "text": [
      "Accuracy on validation set: 83.33%\n"
     ]
    }
   ],
   "source": [
    "eval(modelV4, val_loader, criterion, optimizer)"
   ]
  },
  {
   "cell_type": "code",
   "execution_count": 142,
   "metadata": {
    "tags": []
   },
   "outputs": [],
   "source": [
    "torch.save(modelV4.state_dict(), 'modelV4.pth')"
   ]
  },
  {
   "cell_type": "code",
   "execution_count": 41,
   "metadata": {
    "tags": []
   },
   "outputs": [],
   "source": [
    "import torch\n",
    "import torch.nn as nn\n",
    "\n",
    "class fetalModelV5(nn.Module):\n",
    "    def __init__(self):\n",
    "        super(fetalModelV5, self).__init__()\n",
    "\n",
    "        # Define convolutional layer\n",
    "        self.conv1 = nn.Sequential(\n",
    "            nn.Conv2d(in_channels=1, out_channels=12, kernel_size=5, stride=3, padding=1),\n",
    "            nn.BatchNorm2d(12),\n",
    "            nn.ReLU(),\n",
    "            nn.MaxPool2d(kernel_size=3, stride=1)\n",
    "        )\n",
    "        \n",
    "        # Define convolutional layer\n",
    "        self.conv2 = nn.Sequential(\n",
    "            nn.Conv2d(in_channels=12, out_channels=64, kernel_size=5, stride=3, padding=1),\n",
    "            nn.BatchNorm2d(64),\n",
    "            nn.ReLU(),\n",
    "            nn.MaxPool2d(kernel_size=3, stride=1)\n",
    "        )\n",
    "        \n",
    "         # Define convolutional layer\n",
    "        self.conv3 = nn.Sequential(\n",
    "            nn.Conv2d(in_channels=64, out_channels=128, kernel_size=3, stride=1, padding=1),\n",
    "            nn.BatchNorm2d(128),\n",
    "            nn.ReLU(),\n",
    "            nn.MaxPool2d(kernel_size=1, stride=1)\n",
    "        )\n",
    "        \n",
    "         # Define convolutional layer\n",
    "        self.conv4 = nn.Sequential(\n",
    "            nn.Conv2d(in_channels=128, out_channels=256, kernel_size=1, stride=1),\n",
    "            nn.BatchNorm2d(256),\n",
    "            nn.ReLU(),\n",
    "            nn.MaxPool2d(kernel_size=1, stride=1)\n",
    "        )\n",
    "        \n",
    "        self.conv5 = nn.Sequential(\n",
    "            nn.Conv2d(in_channels=256, out_channels=512, kernel_size=1, stride=1),\n",
    "            nn.BatchNorm2d(512),\n",
    "            nn.ReLU(),\n",
    "            nn.MaxPool2d(kernel_size=1, stride=1)\n",
    "        )\n",
    "            \n",
    "            \n",
    "\n",
    "        # Define fully connected layers\n",
    "        self.fc = nn.Sequential(\n",
    "            nn.Linear(512*25*25, 200),\n",
    "            nn.Sigmoid(),\n",
    "            nn.Linear(200, 64),\n",
    "            nn.ReLU(),\n",
    "            nn.Linear(64, 6),\n",
    "        )\n",
    "\n",
    "    def forward(self, x):\n",
    "        # Apply convolutional layers\n",
    "        #print(x.shape)\n",
    "        x = self.conv1(x)\n",
    "        #print(x.shape)\n",
    "        x = self.conv2(x)\n",
    "        #print(x.shape)\n",
    "        x = self.conv3(x)\n",
    "        #print(x.shape)\n",
    "        x = self.conv4(x)\n",
    "        #print(x.shape)\n",
    "        x = self.conv5(x)\n",
    "        #print(x.shape)\n",
    "        \n",
    "        # Flatten the output before passing to fully connected layer\n",
    "        x = torch.flatten(x, start_dim=1)\n",
    "        #print(x.shape)\n",
    "        x = self.fc(x)\n",
    "        # Apply fully connected layers\n",
    "        #print(x.shape)\n",
    "\n",
    "        return x"
   ]
  },
  {
   "cell_type": "code",
   "execution_count": 42,
   "metadata": {
    "tags": []
   },
   "outputs": [],
   "source": [
    "learning_rate = 1e-5\n",
    "num_epochs = 100\n",
    "\n",
    "# Initialize model\n",
    "modelV5 = fetalModelV5().cuda()\n",
    "\n",
    "# Define loss function\n",
    "criterion = nn.CrossEntropyLoss()\n",
    "\n",
    "# Define optimizer\n",
    "optimizer = optim.Adam(modelV5.parameters(), lr=learning_rate)"
   ]
  },
  {
   "cell_type": "code",
   "execution_count": 43,
   "metadata": {
    "tags": []
   },
   "outputs": [
    {
     "name": "stdout",
     "output_type": "stream",
     "text": [
      "Epoch [1/100], Training Loss: 1.4125, Testing Loss: 1.2168, Accuracy on test set: 72.67%\n",
      "Epoch [2/100], Training Loss: 1.0892, Testing Loss: 0.9892, Accuracy on test set: 79.11%\n",
      "Epoch [3/100], Training Loss: 0.8875, Testing Loss: 0.8482, Accuracy on test set: 80.44%\n",
      "Epoch [4/100], Training Loss: 0.7521, Testing Loss: 0.7146, Accuracy on test set: 83.11%\n",
      "Epoch [5/100], Training Loss: 0.6390, Testing Loss: 0.6101, Accuracy on test set: 84.67%\n",
      "Epoch [6/100], Training Loss: 0.5446, Testing Loss: 0.5728, Accuracy on test set: 85.33%\n",
      "Epoch [7/100], Training Loss: 0.4786, Testing Loss: 0.5306, Accuracy on test set: 85.11%\n",
      "Epoch [8/100], Training Loss: 0.4267, Testing Loss: 0.4592, Accuracy on test set: 86.89%\n",
      "Epoch [9/100], Training Loss: 0.3742, Testing Loss: 0.4380, Accuracy on test set: 87.33%\n",
      "Epoch [10/100], Training Loss: 0.3348, Testing Loss: 0.4070, Accuracy on test set: 86.44%\n",
      "Epoch [11/100], Training Loss: 0.3011, Testing Loss: 0.4057, Accuracy on test set: 86.44%\n",
      "Epoch [12/100], Training Loss: 0.2831, Testing Loss: 0.4044, Accuracy on test set: 85.33%\n",
      "Epoch [13/100], Training Loss: 0.2589, Testing Loss: 0.3936, Accuracy on test set: 86.22%\n",
      "Epoch [14/100], Training Loss: 0.2313, Testing Loss: 0.3732, Accuracy on test set: 85.56%\n",
      "Epoch [15/100], Training Loss: 0.2214, Testing Loss: 0.3811, Accuracy on test set: 85.78%\n",
      "Epoch [16/100], Training Loss: 0.2121, Testing Loss: 0.3935, Accuracy on test set: 86.44%\n",
      "Epoch [17/100], Training Loss: 0.1917, Testing Loss: 0.3748, Accuracy on test set: 86.67%\n",
      "No improvement in test loss for 3 epochs. Stopping training.\n"
     ]
    },
    {
     "data": {
      "image/png": "[encoded data removed]",
      "text/plain": [
       "<Figure size 640x480 with 1 Axes>"
      ]
     },
     "metadata": {},
     "output_type": "display_data"
    }
   ],
   "source": [
    "train_losses,test_losses,accuracy = train(modelV5, train_loader, test_loader, criterion, optimizer, num_epochs)"
   ]
  },
  {
   "cell_type": "code",
   "execution_count": 44,
   "metadata": {},
   "outputs": [
    {
     "name": "stdout",
     "output_type": "stream",
     "text": [
      "Accuracy on validation set: 88.89%\n"
     ]
    }
   ],
   "source": [
    "eval(modelV5, val_loader, criterion, optimizer)"
   ]
  },
  {
   "cell_type": "code",
   "execution_count": 46,
   "metadata": {
    "tags": []
   },
   "outputs": [],
   "source": [
    "torch.save(modelV5.state_dict(), 'modelV5.pth')"
   ]
  },
  {
   "cell_type": "markdown",
   "metadata": {
    "tags": []
   },
   "source": [
    "Lets check if v causes more issues if trained"
   ]
  },
  {
   "cell_type": "code",
   "execution_count": 51,
   "metadata": {
    "tags": []
   },
   "outputs": [
    {
     "ename": "KeyboardInterrupt",
     "evalue": "",
     "output_type": "error",
     "traceback": [
      "\u001b[0;31m---------------------------------------------------------------------------\u001b[0m",
      "\u001b[0;31mKeyboardInterrupt\u001b[0m                         Traceback (most recent call last)",
      "Cell \u001b[0;32mIn[51], line 1\u001b[0m\n\u001b[0;32m----> 1\u001b[0m train_losses,test_losses,accuracy \u001b[38;5;241m=\u001b[39m \u001b[43mtrain\u001b[49m\u001b[43m(\u001b[49m\u001b[43mmodelV5\u001b[49m\u001b[43m,\u001b[49m\u001b[43m \u001b[49m\u001b[43mtrain_loader\u001b[49m\u001b[43m,\u001b[49m\u001b[43m \u001b[49m\u001b[43mtest_loader\u001b[49m\u001b[43m,\u001b[49m\u001b[43m \u001b[49m\u001b[43mcriterion\u001b[49m\u001b[43m,\u001b[49m\u001b[43m \u001b[49m\u001b[43moptimizer\u001b[49m\u001b[43m,\u001b[49m\u001b[43m \u001b[49m\u001b[43mnum_epochs\u001b[49m\u001b[43m)\u001b[49m\n",
      "Cell \u001b[0;32mIn[48], line 24\u001b[0m, in \u001b[0;36mtrain\u001b[0;34m(model, train_loader, test_loader, criterion, optimizer, num_epochs)\u001b[0m\n\u001b[1;32m     21\u001b[0m     loss\u001b[38;5;241m.\u001b[39mbackward()  \u001b[38;5;66;03m# Backward pass\u001b[39;00m\n\u001b[1;32m     22\u001b[0m     optimizer\u001b[38;5;241m.\u001b[39mstep()  \u001b[38;5;66;03m# Update model parameters\u001b[39;00m\n\u001b[0;32m---> 24\u001b[0m     running_loss \u001b[38;5;241m+\u001b[39m\u001b[38;5;241m=\u001b[39m \u001b[43mloss\u001b[49m\u001b[38;5;241;43m.\u001b[39;49m\u001b[43mitem\u001b[49m\u001b[43m(\u001b[49m\u001b[43m)\u001b[49m \u001b[38;5;241m*\u001b[39m inputs\u001b[38;5;241m.\u001b[39msize(\u001b[38;5;241m0\u001b[39m)\n\u001b[1;32m     26\u001b[0m epoch_loss \u001b[38;5;241m=\u001b[39m running_loss \u001b[38;5;241m/\u001b[39m \u001b[38;5;28mlen\u001b[39m(train_loader\u001b[38;5;241m.\u001b[39msampler)\n\u001b[1;32m     27\u001b[0m train_losses\u001b[38;5;241m.\u001b[39mappend(epoch_loss)\n",
      "\u001b[0;31mKeyboardInterrupt\u001b[0m: "
     ]
    }
   ],
   "source": [
    "train_losses,test_losses,accuracy = train(modelV5, train_loader, test_loader, criterion, optimizer, num_epochs)"
   ]
  },
  {
   "cell_type": "code",
   "execution_count": 30,
   "metadata": {
    "tags": []
   },
   "outputs": [],
   "source": [
    "import torch\n",
    "import torch.nn as nn\n",
    "\n",
    "class fetalModelV6(nn.Module):\n",
    "    def __init__(self):\n",
    "        super(fetalModelV6, self).__init__()\n",
    "\n",
    "        # Define convolutional layer\n",
    "        self.conv1 = nn.Sequential(\n",
    "            nn.Conv2d(in_channels=1, out_channels=24, kernel_size=3, stride=2, padding=1),\n",
    "            nn.BatchNorm2d(24),\n",
    "            nn.ReLU(),\n",
    "            nn.MaxPool2d(kernel_size=2, stride=1)\n",
    "        )\n",
    "        \n",
    "        # Define convolutional layer\n",
    "        self.conv2 = nn.Sequential(\n",
    "            nn.Conv2d(in_channels=24, out_channels=64, kernel_size=3, stride=2, padding=1),\n",
    "            nn.BatchNorm2d(64),\n",
    "            nn.ReLU(),\n",
    "            nn.MaxPool2d(kernel_size=2, stride=1)\n",
    "        )\n",
    "        \n",
    "         # Define convolutional layer\n",
    "        self.conv3 = nn.Sequential(\n",
    "            nn.Conv2d(in_channels=64, out_channels=128, kernel_size=3, stride=2),\n",
    "            nn.BatchNorm2d(128),\n",
    "            nn.ReLU(),\n",
    "            nn.MaxPool2d(kernel_size=1, stride=1)\n",
    "        )\n",
    "        \n",
    "         # Define convolutional layer\n",
    "        self.conv4 = nn.Sequential(\n",
    "            nn.Conv2d(in_channels=128, out_channels=256, kernel_size=3, stride=1),\n",
    "            nn.BatchNorm2d(256),\n",
    "            nn.ReLU(),\n",
    "            nn.MaxPool2d(kernel_size=5, stride=1)\n",
    "        )\n",
    "        \n",
    "        self.conv5 = nn.Sequential(\n",
    "            nn.Conv2d(in_channels=256, out_channels=512, kernel_size=5, stride=1),\n",
    "            nn.BatchNorm2d(512),\n",
    "            nn.ReLU(),\n",
    "            nn.MaxPool2d(kernel_size=7, stride=1)\n",
    "        )\n",
    "            \n",
    "            \n",
    "\n",
    "        # Define fully connected layers\n",
    "        self.fc = nn.Sequential(\n",
    "            nn.Linear(512*14*14, 200),\n",
    "            nn.Sigmoid(),\n",
    "            nn.Linear(200, 64),\n",
    "            nn.Sigmoid(),\n",
    "            nn.Linear(64, 6),\n",
    "        )\n",
    "\n",
    "    def forward(self, x):\n",
    "        # Apply convolutional layers\n",
    "        #print(x.shape)\n",
    "        x = self.conv1(x)\n",
    "        #print(x.shape)\n",
    "        x = self.conv2(x)\n",
    "        #print(x.shape)\n",
    "        x = self.conv3(x)\n",
    "        #print(x.shape)\n",
    "        x = self.conv4(x)\n",
    "        #print(x.shape)\n",
    "        x = self.conv5(x)\n",
    "        #print(x.shape)\n",
    "        \n",
    "        # Flatten the output before passing to fully connected layer\n",
    "        x = torch.flatten(x, start_dim=1)\n",
    "        #print(x.shape)\n",
    "        x = self.fc(x)\n",
    "        # Apply fully connected layers\n",
    "        #print(x.shape)\n",
    "\n",
    "        return x"
   ]
  },
  {
   "cell_type": "code",
   "execution_count": 31,
   "metadata": {
    "tags": []
   },
   "outputs": [],
   "source": [
    "learning_rate = 1e-5\n",
    "num_epochs = 100\n",
    "\n",
    "# Initialize model\n",
    "modelV6 = fetalModelV6().cuda()\n",
    "\n",
    "# Define loss function\n",
    "criterion = nn.CrossEntropyLoss()\n",
    "\n",
    "# Define optimizer\n",
    "optimizer = optim.Adam(modelV6.parameters(), lr=learning_rate)"
   ]
  },
  {
   "cell_type": "code",
   "execution_count": 32,
   "metadata": {
    "tags": []
   },
   "outputs": [
    {
     "name": "stdout",
     "output_type": "stream",
     "text": [
      "Epoch [1/100], Training Loss: 1.7392, Testing Loss: 1.6443, Accuracy on test set: 52.22%\n",
      "Epoch [2/100], Training Loss: 1.6062, Testing Loss: 1.5590, Accuracy on test set: 62.00%\n",
      "Epoch [3/100], Training Loss: 1.5187, Testing Loss: 1.4704, Accuracy on test set: 63.78%\n",
      "Epoch [4/100], Training Loss: 1.4380, Testing Loss: 1.4102, Accuracy on test set: 73.56%\n",
      "Epoch [5/100], Training Loss: 1.3621, Testing Loss: 1.3069, Accuracy on test set: 83.11%\n",
      "Epoch [6/100], Training Loss: 1.2856, Testing Loss: 1.2464, Accuracy on test set: 81.11%\n",
      "Epoch [7/100], Training Loss: 1.2134, Testing Loss: 1.1735, Accuracy on test set: 84.00%\n",
      "Epoch [8/100], Training Loss: 1.1419, Testing Loss: 1.0957, Accuracy on test set: 87.78%\n",
      "Epoch [9/100], Training Loss: 1.0748, Testing Loss: 1.0379, Accuracy on test set: 87.56%\n",
      "Epoch [10/100], Training Loss: 1.0060, Testing Loss: 0.9939, Accuracy on test set: 84.22%\n",
      "Epoch [11/100], Training Loss: 0.9449, Testing Loss: 0.9572, Accuracy on test set: 85.33%\n",
      "Epoch [12/100], Training Loss: 0.8937, Testing Loss: 0.8690, Accuracy on test set: 88.00%\n",
      "Epoch [13/100], Training Loss: 0.8426, Testing Loss: 0.8239, Accuracy on test set: 87.78%\n",
      "Epoch [14/100], Training Loss: 0.7888, Testing Loss: 0.7798, Accuracy on test set: 89.11%\n",
      "Epoch [15/100], Training Loss: 0.7309, Testing Loss: 0.7462, Accuracy on test set: 86.00%\n",
      "Epoch [16/100], Training Loss: 0.6873, Testing Loss: 0.7088, Accuracy on test set: 87.78%\n",
      "Epoch [17/100], Training Loss: 0.6411, Testing Loss: 0.6788, Accuracy on test set: 87.33%\n",
      "Epoch [18/100], Training Loss: 0.6040, Testing Loss: 0.6391, Accuracy on test set: 88.22%\n",
      "Epoch [19/100], Training Loss: 0.5674, Testing Loss: 0.5752, Accuracy on test set: 90.89%\n",
      "Epoch [20/100], Training Loss: 0.5386, Testing Loss: 0.5529, Accuracy on test set: 89.11%\n",
      "Epoch [21/100], Training Loss: 0.4993, Testing Loss: 0.5470, Accuracy on test set: 87.78%\n",
      "Epoch [22/100], Training Loss: 0.4661, Testing Loss: 0.5279, Accuracy on test set: 90.22%\n",
      "Epoch [23/100], Training Loss: 0.4446, Testing Loss: 0.5208, Accuracy on test set: 87.11%\n",
      "Epoch [24/100], Training Loss: 0.4145, Testing Loss: 0.4722, Accuracy on test set: 89.78%\n",
      "Epoch [25/100], Training Loss: 0.3938, Testing Loss: 0.4336, Accuracy on test set: 90.44%\n",
      "Epoch [26/100], Training Loss: 0.3777, Testing Loss: 0.4174, Accuracy on test set: 89.11%\n",
      "Epoch [27/100], Training Loss: 0.3555, Testing Loss: 0.4377, Accuracy on test set: 88.67%\n",
      "Epoch [28/100], Training Loss: 0.3288, Testing Loss: 0.4331, Accuracy on test set: 87.78%\n",
      "Epoch [29/100], Training Loss: 0.3147, Testing Loss: 0.3869, Accuracy on test set: 89.56%\n",
      "Epoch [30/100], Training Loss: 0.2970, Testing Loss: 0.3915, Accuracy on test set: 90.22%\n",
      "Epoch [31/100], Training Loss: 0.2807, Testing Loss: 0.3617, Accuracy on test set: 90.22%\n",
      "Epoch [32/100], Training Loss: 0.2679, Testing Loss: 0.3781, Accuracy on test set: 89.78%\n",
      "Epoch [33/100], Training Loss: 0.2551, Testing Loss: 0.3842, Accuracy on test set: 89.56%\n",
      "Epoch [34/100], Training Loss: 0.2447, Testing Loss: 0.3246, Accuracy on test set: 90.89%\n",
      "Epoch [35/100], Training Loss: 0.2343, Testing Loss: 0.3604, Accuracy on test set: 88.89%\n",
      "Epoch [36/100], Training Loss: 0.2183, Testing Loss: 0.3537, Accuracy on test set: 90.22%\n",
      "Epoch [37/100], Training Loss: 0.1967, Testing Loss: 0.3836, Accuracy on test set: 89.11%\n",
      "Epoch [38/100], Training Loss: 0.2085, Testing Loss: 0.3001, Accuracy on test set: 92.00%\n",
      "Epoch [39/100], Training Loss: 0.1897, Testing Loss: 0.3188, Accuracy on test set: 90.44%\n",
      "Epoch [40/100], Training Loss: 0.1779, Testing Loss: 0.3028, Accuracy on test set: 90.89%\n",
      "Epoch [41/100], Training Loss: 0.1716, Testing Loss: 0.3179, Accuracy on test set: 90.00%\n",
      "Epoch [42/100], Training Loss: 0.1710, Testing Loss: 0.2850, Accuracy on test set: 91.56%\n",
      "Epoch [43/100], Training Loss: 0.1649, Testing Loss: 0.3053, Accuracy on test set: 91.11%\n",
      "Epoch [44/100], Training Loss: 0.1473, Testing Loss: 0.3246, Accuracy on test set: 90.22%\n",
      "Epoch [45/100], Training Loss: 0.1488, Testing Loss: 0.3288, Accuracy on test set: 89.11%\n",
      "Epoch [46/100], Training Loss: 0.1520, Testing Loss: 0.2803, Accuracy on test set: 91.33%\n",
      "Epoch [47/100], Training Loss: 0.1378, Testing Loss: 0.2961, Accuracy on test set: 91.11%\n",
      "Epoch [48/100], Training Loss: 0.1338, Testing Loss: 0.2899, Accuracy on test set: 89.78%\n",
      "Epoch [49/100], Training Loss: 0.1251, Testing Loss: 0.2743, Accuracy on test set: 91.33%\n",
      "Epoch [50/100], Training Loss: 0.1223, Testing Loss: 0.2789, Accuracy on test set: 91.11%\n",
      "Epoch [51/100], Training Loss: 0.1188, Testing Loss: 0.3246, Accuracy on test set: 90.00%\n",
      "Epoch [52/100], Training Loss: 0.1147, Testing Loss: 0.3044, Accuracy on test set: 90.67%\n",
      "Epoch [53/100], Training Loss: 0.1028, Testing Loss: 0.2797, Accuracy on test set: 90.44%\n",
      "No improvement in test loss for 4 epochs. Stopping training.\n"
     ]
    },
    {
     "data": {
      "image/png": "[encoded data removed]",
      "text/plain": [
       "<Figure size 640x480 with 1 Axes>"
      ]
     },
     "metadata": {},
     "output_type": "display_data"
    }
   ],
   "source": [
    "train_losses,test_losses,accuracy = train(modelV6, train_loader, test_loader, criterion, optimizer, num_epochs)"
   ]
  },
  {
   "cell_type": "code",
   "execution_count": 33,
   "metadata": {},
   "outputs": [],
   "source": [
    "torch.save(modelV6.state_dict(), 'modelV6.pth')"
   ]
  },
  {
   "cell_type": "code",
   "execution_count": 34,
   "metadata": {
    "tags": []
   },
   "outputs": [
    {
     "name": "stdout",
     "output_type": "stream",
     "text": [
      "Accuracy on validation set: 94.00%\n"
     ]
    }
   ],
   "source": [
    "eval(modelV6, val_loader, criterion, optimizer)"
   ]
  },
  {
   "cell_type": "markdown",
   "metadata": {},
   "source": [
    "remaining accuracy"
   ]
  },
  {
   "cell_type": "code",
   "execution_count": 36,
   "metadata": {
    "tags": []
   },
   "outputs": [],
   "source": [
    "not_in_df = df[~df['Image_name'].isin(randomly_selected_data['Image_name'])]"
   ]
  },
  {
   "cell_type": "code",
   "execution_count": 37,
   "metadata": {
    "tags": []
   },
   "outputs": [
    {
     "data": {
      "text/html": [
       "<div>\n",
       "<style scoped>\n",
       "    .dataframe tbody tr th:only-of-type {\n",
       "        vertical-align: middle;\n",
       "    }\n",
       "\n",
       "    .dataframe tbody tr th {\n",
       "        vertical-align: top;\n",
       "    }\n",
       "\n",
       "    .dataframe thead th {\n",
       "        text-align: right;\n",
       "    }\n",
       "</style>\n",
       "<table border=\"1\" class=\"dataframe\">\n",
       "  <thead>\n",
       "    <tr style=\"text-align: right;\">\n",
       "      <th></th>\n",
       "      <th>Image_name</th>\n",
       "      <th>Patient_num</th>\n",
       "      <th>Plane</th>\n",
       "      <th>Brain_plane</th>\n",
       "      <th>Operator</th>\n",
       "      <th>US_Machine</th>\n",
       "      <th>Train</th>\n",
       "    </tr>\n",
       "  </thead>\n",
       "  <tbody>\n",
       "    <tr>\n",
       "      <th>0</th>\n",
       "      <td>Patient00001_Plane1_1_of_15</td>\n",
       "      <td>1</td>\n",
       "      <td>Other</td>\n",
       "      <td>Not A Brain</td>\n",
       "      <td>Other</td>\n",
       "      <td>Aloka</td>\n",
       "      <td>1</td>\n",
       "    </tr>\n",
       "    <tr>\n",
       "      <th>1</th>\n",
       "      <td>Patient00001_Plane1_2_of_15</td>\n",
       "      <td>1</td>\n",
       "      <td>Other</td>\n",
       "      <td>Not A Brain</td>\n",
       "      <td>Other</td>\n",
       "      <td>Aloka</td>\n",
       "      <td>1</td>\n",
       "    </tr>\n",
       "    <tr>\n",
       "      <th>2</th>\n",
       "      <td>Patient00001_Plane1_3_of_15</td>\n",
       "      <td>1</td>\n",
       "      <td>Other</td>\n",
       "      <td>Not A Brain</td>\n",
       "      <td>Other</td>\n",
       "      <td>Aloka</td>\n",
       "      <td>1</td>\n",
       "    </tr>\n",
       "    <tr>\n",
       "      <th>3</th>\n",
       "      <td>Patient00001_Plane1_4_of_15</td>\n",
       "      <td>1</td>\n",
       "      <td>Other</td>\n",
       "      <td>Not A Brain</td>\n",
       "      <td>Other</td>\n",
       "      <td>Aloka</td>\n",
       "      <td>1</td>\n",
       "    </tr>\n",
       "    <tr>\n",
       "      <th>4</th>\n",
       "      <td>Patient00001_Plane1_5_of_15</td>\n",
       "      <td>1</td>\n",
       "      <td>Other</td>\n",
       "      <td>Not A Brain</td>\n",
       "      <td>Other</td>\n",
       "      <td>Aloka</td>\n",
       "      <td>1</td>\n",
       "    </tr>\n",
       "    <tr>\n",
       "      <th>...</th>\n",
       "      <td>...</td>\n",
       "      <td>...</td>\n",
       "      <td>...</td>\n",
       "      <td>...</td>\n",
       "      <td>...</td>\n",
       "      <td>...</td>\n",
       "      <td>...</td>\n",
       "    </tr>\n",
       "    <tr>\n",
       "      <th>12387</th>\n",
       "      <td>Patient01789_Plane6_1_of_1</td>\n",
       "      <td>1789</td>\n",
       "      <td>Fetal thorax</td>\n",
       "      <td>Not A Brain</td>\n",
       "      <td>Other</td>\n",
       "      <td>Voluson S10</td>\n",
       "      <td>0</td>\n",
       "    </tr>\n",
       "    <tr>\n",
       "      <th>12390</th>\n",
       "      <td>Patient01790_Plane3_2_of_2</td>\n",
       "      <td>1790</td>\n",
       "      <td>Fetal brain</td>\n",
       "      <td>Trans-thalamic</td>\n",
       "      <td>Other</td>\n",
       "      <td>Voluson S10</td>\n",
       "      <td>0</td>\n",
       "    </tr>\n",
       "    <tr>\n",
       "      <th>12393</th>\n",
       "      <td>Patient01791_Plane3_2_of_3</td>\n",
       "      <td>1791</td>\n",
       "      <td>Fetal brain</td>\n",
       "      <td>Trans-thalamic</td>\n",
       "      <td>Other</td>\n",
       "      <td>Voluson S10</td>\n",
       "      <td>0</td>\n",
       "    </tr>\n",
       "    <tr>\n",
       "      <th>12394</th>\n",
       "      <td>Patient01791_Plane3_3_of_3</td>\n",
       "      <td>1791</td>\n",
       "      <td>Fetal brain</td>\n",
       "      <td>Trans-thalamic</td>\n",
       "      <td>Other</td>\n",
       "      <td>Voluson S10</td>\n",
       "      <td>0</td>\n",
       "    </tr>\n",
       "    <tr>\n",
       "      <th>12399</th>\n",
       "      <td>Patient01792_Plane6_1_of_1</td>\n",
       "      <td>1792</td>\n",
       "      <td>Fetal thorax</td>\n",
       "      <td>Not A Brain</td>\n",
       "      <td>Other</td>\n",
       "      <td>Voluson E6</td>\n",
       "      <td>0</td>\n",
       "    </tr>\n",
       "  </tbody>\n",
       "</table>\n",
       "<p>9400 rows × 7 columns</p>\n",
       "</div>"
      ],
      "text/plain": [
       "                        Image_name  Patient_num         Plane     Brain_plane  \\\n",
       "0      Patient00001_Plane1_1_of_15            1         Other     Not A Brain   \n",
       "1      Patient00001_Plane1_2_of_15            1         Other     Not A Brain   \n",
       "2      Patient00001_Plane1_3_of_15            1         Other     Not A Brain   \n",
       "3      Patient00001_Plane1_4_of_15            1         Other     Not A Brain   \n",
       "4      Patient00001_Plane1_5_of_15            1         Other     Not A Brain   \n",
       "...                            ...          ...           ...             ...   \n",
       "12387   Patient01789_Plane6_1_of_1         1789  Fetal thorax     Not A Brain   \n",
       "12390   Patient01790_Plane3_2_of_2         1790   Fetal brain  Trans-thalamic   \n",
       "12393   Patient01791_Plane3_2_of_3         1791   Fetal brain  Trans-thalamic   \n",
       "12394   Patient01791_Plane3_3_of_3         1791   Fetal brain  Trans-thalamic   \n",
       "12399   Patient01792_Plane6_1_of_1         1792  Fetal thorax     Not A Brain   \n",
       "\n",
       "      Operator   US_Machine  Train   \n",
       "0        Other        Aloka       1  \n",
       "1        Other        Aloka       1  \n",
       "2        Other        Aloka       1  \n",
       "3        Other        Aloka       1  \n",
       "4        Other        Aloka       1  \n",
       "...        ...          ...     ...  \n",
       "12387    Other  Voluson S10       0  \n",
       "12390    Other  Voluson S10       0  \n",
       "12393    Other  Voluson S10       0  \n",
       "12394    Other  Voluson S10       0  \n",
       "12399    Other   Voluson E6       0  \n",
       "\n",
       "[9400 rows x 7 columns]"
      ]
     },
     "execution_count": 37,
     "metadata": {},
     "output_type": "execute_result"
    }
   ],
   "source": [
    "not_in_df"
   ]
  },
  {
   "cell_type": "code",
   "execution_count": 38,
   "metadata": {
    "tags": []
   },
   "outputs": [],
   "source": [
    "X_rest,Y_rest = not_in_df [\"Image_name\"], not_in_df[\"Plane\"]"
   ]
  },
  {
   "cell_type": "code",
   "execution_count": 47,
   "metadata": {
    "tags": []
   },
   "outputs": [],
   "source": [
    "rest_Y_encoded = label_encoder.fit_transform(Y_rest)"
   ]
  },
  {
   "cell_type": "code",
   "execution_count": 48,
   "metadata": {
    "tags": []
   },
   "outputs": [],
   "source": [
    "rest_Dataset = FetailImageDataset(X_rest,rest_Y_encoded, transform=transform)"
   ]
  },
  {
   "cell_type": "code",
   "execution_count": 49,
   "metadata": {
    "tags": []
   },
   "outputs": [],
   "source": [
    "rest_loader = DataLoader(rest_Dataset, batch_size=batch_size, shuffle=True)"
   ]
  },
  {
   "cell_type": "code",
   "execution_count": 50,
   "metadata": {
    "tags": []
   },
   "outputs": [
    {
     "name": "stdout",
     "output_type": "stream",
     "text": [
      "Accuracy on validation set: 89.70%\n"
     ]
    }
   ],
   "source": [
    "eval(modelV6, rest_loader, criterion, optimizer)"
   ]
  }
 ],
 "metadata": {
  "accelerator": "GPU",
  "colab": {
   "gpuType": "T4",
   "provenance": []
  },
  "kernelspec": {
   "display_name": "PyTorch 2.0",
   "language": "python",
   "name": "pytorch-2-0"
  },
  "language_info": {
   "codemirror_mode": {
    "name": "ipython",
    "version": 3
   },
   "file_extension": ".py",
   "mimetype": "text/x-python",
   "name": "python",
   "nbconvert_exporter": "python",
   "pygments_lexer": "ipython3",
   "version": "3.10.13"
  }
 },
 "nbformat": 4,
 "nbformat_minor": 4
}
