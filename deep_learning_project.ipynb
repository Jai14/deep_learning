{
  "cells": [
    {
      "cell_type": "markdown",
      "metadata": {
        "id": "view-in-github",
        "colab_type": "text"
      },
      "source": [
        "<a href=\"https://colab.research.google.com/github/Jai14/deep_learning/blob/main/deep_learning_project.ipynb\" target=\"_parent\"><img src=\"https://colab.research.google.com/assets/colab-badge.svg\" alt=\"Open In Colab\"/></a>"
      ]
    },
    {
      "cell_type": "code",
      "execution_count": 45,
      "metadata": {
        "id": "N2Shfb2ieD5_"
      },
      "outputs": [],
      "source": [
        "import pandas as pd\n",
        "import zipfile\n",
        "import os"
      ]
    },
    {
      "cell_type": "code",
      "execution_count": null,
      "metadata": {
        "id": "bBOaJ2XCyYXw"
      },
      "outputs": [],
      "source": [
        "dataset_path = \"/content/drive/MyDrive/Colab_Notebooks/FETAL_PLANES_ZENODO.zip\"\n",
        "extracted_dir = \"/content/FETAL_PLANES_ZENODO\"\n",
        "os.makedirs(extracted_dir, exist_ok=True)"
      ]
    },
    {
      "cell_type": "code",
      "execution_count": null,
      "metadata": {
        "colab": {
          "base_uri": "https://localhost:8080/"
        },
        "id": "bm4daqoDykVO",
        "outputId": "beb0f2aa-31e4-4c39-ed83-8f7bc7c75ba4"
      },
      "outputs": [
        {
          "name": "stdout",
          "output_type": "stream",
          "text": [
            "Dataset has been extracted.\n"
          ]
        }
      ],
      "source": [
        "with zipfile.ZipFile(dataset_path, 'r') as zip_ref:\n",
        "    zip_ref.extractall(extracted_dir)\n",
        "print(\"Dataset has been extracted.\")"
      ]
    },
    {
      "cell_type": "code",
      "execution_count": 46,
      "metadata": {
        "id": "j6VfE4CJ0nGa"
      },
      "outputs": [],
      "source": [
        "set_cur_dir = \"/content/FETAL_PLANES_ZENODO\"\n",
        "os.chdir(set_cur_dir)"
      ]
    },
    {
      "cell_type": "code",
      "execution_count": 47,
      "metadata": {
        "colab": {
          "base_uri": "https://localhost:8080/"
        },
        "id": "BS2Rb0WKeP9R",
        "outputId": "13956c6b-7bed-4c85-b837-7779837e0b7a"
      },
      "outputs": [
        {
          "output_type": "stream",
          "name": "stdout",
          "text": [
            "Plane\n",
            "Other              4213\n",
            "Fetal brain        3092\n",
            "Fetal thorax       1718\n",
            "Maternal cervix    1626\n",
            "Fetal femur        1040\n",
            "Fetal abdomen       711\n",
            "Name: count, dtype: int64\n"
          ]
        }
      ],
      "source": [
        "# Load the CSV file into a DataFrame\n",
        "df = pd.read_excel(\"FETAL_PLANES_DB_data.xlsx\")\n",
        "\n",
        "# Check the unique values and their counts in the \"Plane\" column\n",
        "class_counts = df['Plane'].value_counts()\n",
        "\n",
        "# Display the result\n",
        "print(class_counts)"
      ]
    },
    {
      "cell_type": "markdown",
      "metadata": {
        "id": "z4nEfAKb4Clx"
      },
      "source": [
        "# Concat brain plane with plane"
      ]
    },
    {
      "cell_type": "code",
      "execution_count": 48,
      "metadata": {
        "id": "ewMb655J3zuM"
      },
      "outputs": [],
      "source": [
        "df['Plane'] = df.apply(lambda row: row['Plane'] + ' ' + row['Brain_plane'] if row['Plane'] == 'Fetal brain' else row['Plane'], axis=1)"
      ]
    },
    {
      "cell_type": "code",
      "execution_count": 49,
      "metadata": {
        "colab": {
          "base_uri": "https://localhost:8080/"
        },
        "id": "xmlCDJSL4FZ4",
        "outputId": "ca0be992-c88a-4281-e246-235a4cd2092c"
      },
      "outputs": [
        {
          "output_type": "stream",
          "name": "stdout",
          "text": [
            "Plane\n",
            "Other                            4213\n",
            "Fetal thorax                     1718\n",
            "Fetal brain Trans-thalamic       1638\n",
            "Maternal cervix                  1626\n",
            "Fetal femur                      1040\n",
            "Fetal brain Trans-cerebellum      714\n",
            "Fetal abdomen                     711\n",
            "Fetal brain Trans-ventricular     597\n",
            "Fetal brain Other                 143\n",
            "Name: count, dtype: int64\n",
            "The length of the df 12400\n"
          ]
        }
      ],
      "source": [
        "# Check the unique values and their counts in the \"Plane\" column\n",
        "class_counts = df['Plane'].value_counts()\n",
        "total_count = len(df)\n",
        "\n",
        "# Display the result\n",
        "print(class_counts)\n",
        "print(\"The length of the df\" , total_count)"
      ]
    },
    {
      "cell_type": "code",
      "execution_count": 50,
      "metadata": {
        "colab": {
          "base_uri": "https://localhost:8080/"
        },
        "id": "xbGGrXm_fMiS",
        "outputId": "ad6f14b2-f57d-472f-c880-8b54285ae713"
      },
      "outputs": [
        {
          "output_type": "stream",
          "name": "stdout",
          "text": [
            "Plane\n",
            "Other                            33.975806\n",
            "Fetal thorax                     13.854839\n",
            "Fetal brain Trans-thalamic       13.209677\n",
            "Maternal cervix                  13.112903\n",
            "Fetal femur                       8.387097\n",
            "Fetal brain Trans-cerebellum      5.758065\n",
            "Fetal abdomen                     5.733871\n",
            "Fetal brain Trans-ventricular     4.814516\n",
            "Fetal brain Other                 1.153226\n",
            "Name: count, dtype: float64\n"
          ]
        }
      ],
      "source": [
        "# Calculate the percentage for each class\n",
        "percentages = (class_counts / total_count) * 100\n",
        "\n",
        "# Display the result\n",
        "print(percentages)"
      ]
    },
    {
      "cell_type": "code",
      "execution_count": 51,
      "metadata": {
        "id": "DhOQPFhleXNe"
      },
      "outputs": [],
      "source": [
        "from sklearn.utils import resample\n",
        "from sklearn.datasets import make_classification\n",
        "from imblearn.under_sampling import NearMiss\n",
        "import numpy as np"
      ]
    },
    {
      "cell_type": "code",
      "execution_count": 52,
      "metadata": {
        "id": "pv3UCs87qhI0"
      },
      "outputs": [],
      "source": [
        "randomly_selected_data = pd.DataFrame()\n",
        "target_count = 143"
      ]
    },
    {
      "cell_type": "code",
      "execution_count": 53,
      "metadata": {
        "id": "v6SFhmT-uT2C"
      },
      "outputs": [],
      "source": [
        "for class_label in df['Plane'].unique():\n",
        "    # Select only the rows corresponding to the current class\n",
        "    class_data = df[df['Plane'] == class_label]\n",
        "\n",
        "    # Randomly sample 143 images from the current class\n",
        "    sampled_data = class_data.sample(n=target_count, random_state=42)\n",
        "\n",
        "    # Concatenate the sampled data with the overall randomly selected dataset\n",
        "    randomly_selected_data = pd.concat([randomly_selected_data, sampled_data])\n",
        "\n",
        "# Shuffle the randomly selected data\n",
        "randomly_selected_data = randomly_selected_data.sample(frac=1, random_state=42).reset_index(drop=True)"
      ]
    },
    {
      "cell_type": "code",
      "execution_count": 54,
      "metadata": {
        "colab": {
          "base_uri": "https://localhost:8080/",
          "height": 424
        },
        "id": "DZ82K8gVvCBi",
        "outputId": "b8a52f0f-4785-4a1c-b12d-f4b55c70e38d"
      },
      "outputs": [
        {
          "output_type": "execute_result",
          "data": {
            "text/plain": [
              "                      Image_name  Patient_num                          Plane  \\\n",
              "0     Patient00984_Plane3_6_of_8          984              Fetal brain Other   \n",
              "1     Patient01624_Plane2_1_of_1         1624                  Fetal abdomen   \n",
              "2     Patient01443_Plane6_1_of_1         1443                   Fetal thorax   \n",
              "3     Patient01623_Plane2_1_of_1         1623                  Fetal abdomen   \n",
              "4     Patient01198_Plane3_2_of_2         1198              Fetal brain Other   \n",
              "...                          ...          ...                            ...   \n",
              "1282  Patient01718_Plane3_3_of_4         1718  Fetal brain Trans-ventricular   \n",
              "1283  Patient01508_Plane3_2_of_2         1508  Fetal brain Trans-ventricular   \n",
              "1284  Patient00832_Plane3_2_of_3          832  Fetal brain Trans-ventricular   \n",
              "1285  Patient00732_Plane6_2_of_7          732                   Fetal thorax   \n",
              "1286  Patient00953_Plane3_3_of_3          953  Fetal brain Trans-ventricular   \n",
              "\n",
              "            Brain_plane Operator   US_Machine  Train   \n",
              "0                 Other    Op. 2   Voluson E6       1  \n",
              "1           Not A Brain    Other   Voluson E6       0  \n",
              "2           Not A Brain    Other  Voluson S10       0  \n",
              "3           Not A Brain    Op. 1   Voluson E6       0  \n",
              "4                 Other    Op. 3        Aloka       1  \n",
              "...                 ...      ...          ...     ...  \n",
              "1282  Trans-ventricular    Other  Voluson S10       0  \n",
              "1283  Trans-ventricular    Other  Voluson S10       0  \n",
              "1284  Trans-ventricular    Op. 3        Aloka       1  \n",
              "1285        Not A Brain    Op. 1   Voluson E6       1  \n",
              "1286  Trans-ventricular    Op. 3        Aloka       1  \n",
              "\n",
              "[1287 rows x 7 columns]"
            ],
            "text/html": [
              "\n",
              "  <div id=\"df-c071fe52-7691-42b1-b9e1-9b42138004b3\" class=\"colab-df-container\">\n",
              "    <div>\n",
              "<style scoped>\n",
              "    .dataframe tbody tr th:only-of-type {\n",
              "        vertical-align: middle;\n",
              "    }\n",
              "\n",
              "    .dataframe tbody tr th {\n",
              "        vertical-align: top;\n",
              "    }\n",
              "\n",
              "    .dataframe thead th {\n",
              "        text-align: right;\n",
              "    }\n",
              "</style>\n",
              "<table border=\"1\" class=\"dataframe\">\n",
              "  <thead>\n",
              "    <tr style=\"text-align: right;\">\n",
              "      <th></th>\n",
              "      <th>Image_name</th>\n",
              "      <th>Patient_num</th>\n",
              "      <th>Plane</th>\n",
              "      <th>Brain_plane</th>\n",
              "      <th>Operator</th>\n",
              "      <th>US_Machine</th>\n",
              "      <th>Train</th>\n",
              "    </tr>\n",
              "  </thead>\n",
              "  <tbody>\n",
              "    <tr>\n",
              "      <th>0</th>\n",
              "      <td>Patient00984_Plane3_6_of_8</td>\n",
              "      <td>984</td>\n",
              "      <td>Fetal brain Other</td>\n",
              "      <td>Other</td>\n",
              "      <td>Op. 2</td>\n",
              "      <td>Voluson E6</td>\n",
              "      <td>1</td>\n",
              "    </tr>\n",
              "    <tr>\n",
              "      <th>1</th>\n",
              "      <td>Patient01624_Plane2_1_of_1</td>\n",
              "      <td>1624</td>\n",
              "      <td>Fetal abdomen</td>\n",
              "      <td>Not A Brain</td>\n",
              "      <td>Other</td>\n",
              "      <td>Voluson E6</td>\n",
              "      <td>0</td>\n",
              "    </tr>\n",
              "    <tr>\n",
              "      <th>2</th>\n",
              "      <td>Patient01443_Plane6_1_of_1</td>\n",
              "      <td>1443</td>\n",
              "      <td>Fetal thorax</td>\n",
              "      <td>Not A Brain</td>\n",
              "      <td>Other</td>\n",
              "      <td>Voluson S10</td>\n",
              "      <td>0</td>\n",
              "    </tr>\n",
              "    <tr>\n",
              "      <th>3</th>\n",
              "      <td>Patient01623_Plane2_1_of_1</td>\n",
              "      <td>1623</td>\n",
              "      <td>Fetal abdomen</td>\n",
              "      <td>Not A Brain</td>\n",
              "      <td>Op. 1</td>\n",
              "      <td>Voluson E6</td>\n",
              "      <td>0</td>\n",
              "    </tr>\n",
              "    <tr>\n",
              "      <th>4</th>\n",
              "      <td>Patient01198_Plane3_2_of_2</td>\n",
              "      <td>1198</td>\n",
              "      <td>Fetal brain Other</td>\n",
              "      <td>Other</td>\n",
              "      <td>Op. 3</td>\n",
              "      <td>Aloka</td>\n",
              "      <td>1</td>\n",
              "    </tr>\n",
              "    <tr>\n",
              "      <th>...</th>\n",
              "      <td>...</td>\n",
              "      <td>...</td>\n",
              "      <td>...</td>\n",
              "      <td>...</td>\n",
              "      <td>...</td>\n",
              "      <td>...</td>\n",
              "      <td>...</td>\n",
              "    </tr>\n",
              "    <tr>\n",
              "      <th>1282</th>\n",
              "      <td>Patient01718_Plane3_3_of_4</td>\n",
              "      <td>1718</td>\n",
              "      <td>Fetal brain Trans-ventricular</td>\n",
              "      <td>Trans-ventricular</td>\n",
              "      <td>Other</td>\n",
              "      <td>Voluson S10</td>\n",
              "      <td>0</td>\n",
              "    </tr>\n",
              "    <tr>\n",
              "      <th>1283</th>\n",
              "      <td>Patient01508_Plane3_2_of_2</td>\n",
              "      <td>1508</td>\n",
              "      <td>Fetal brain Trans-ventricular</td>\n",
              "      <td>Trans-ventricular</td>\n",
              "      <td>Other</td>\n",
              "      <td>Voluson S10</td>\n",
              "      <td>0</td>\n",
              "    </tr>\n",
              "    <tr>\n",
              "      <th>1284</th>\n",
              "      <td>Patient00832_Plane3_2_of_3</td>\n",
              "      <td>832</td>\n",
              "      <td>Fetal brain Trans-ventricular</td>\n",
              "      <td>Trans-ventricular</td>\n",
              "      <td>Op. 3</td>\n",
              "      <td>Aloka</td>\n",
              "      <td>1</td>\n",
              "    </tr>\n",
              "    <tr>\n",
              "      <th>1285</th>\n",
              "      <td>Patient00732_Plane6_2_of_7</td>\n",
              "      <td>732</td>\n",
              "      <td>Fetal thorax</td>\n",
              "      <td>Not A Brain</td>\n",
              "      <td>Op. 1</td>\n",
              "      <td>Voluson E6</td>\n",
              "      <td>1</td>\n",
              "    </tr>\n",
              "    <tr>\n",
              "      <th>1286</th>\n",
              "      <td>Patient00953_Plane3_3_of_3</td>\n",
              "      <td>953</td>\n",
              "      <td>Fetal brain Trans-ventricular</td>\n",
              "      <td>Trans-ventricular</td>\n",
              "      <td>Op. 3</td>\n",
              "      <td>Aloka</td>\n",
              "      <td>1</td>\n",
              "    </tr>\n",
              "  </tbody>\n",
              "</table>\n",
              "<p>1287 rows × 7 columns</p>\n",
              "</div>\n",
              "    <div class=\"colab-df-buttons\">\n",
              "\n",
              "  <div class=\"colab-df-container\">\n",
              "    <button class=\"colab-df-convert\" onclick=\"convertToInteractive('df-c071fe52-7691-42b1-b9e1-9b42138004b3')\"\n",
              "            title=\"Convert this dataframe to an interactive table.\"\n",
              "            style=\"display:none;\">\n",
              "\n",
              "  <svg xmlns=\"http://www.w3.org/2000/svg\" height=\"24px\" viewBox=\"0 -960 960 960\">\n",
              "    <path d=\"M120-120v-720h720v720H120Zm60-500h600v-160H180v160Zm220 220h160v-160H400v160Zm0 220h160v-160H400v160ZM180-400h160v-160H180v160Zm440 0h160v-160H620v160ZM180-180h160v-160H180v160Zm440 0h160v-160H620v160Z\"/>\n",
              "  </svg>\n",
              "    </button>\n",
              "\n",
              "  <style>\n",
              "    .colab-df-container {\n",
              "      display:flex;\n",
              "      gap: 12px;\n",
              "    }\n",
              "\n",
              "    .colab-df-convert {\n",
              "      background-color: #E8F0FE;\n",
              "      border: none;\n",
              "      border-radius: 50%;\n",
              "      cursor: pointer;\n",
              "      display: none;\n",
              "      fill: #1967D2;\n",
              "      height: 32px;\n",
              "      padding: 0 0 0 0;\n",
              "      width: 32px;\n",
              "    }\n",
              "\n",
              "    .colab-df-convert:hover {\n",
              "      background-color: #E2EBFA;\n",
              "      box-shadow: 0px 1px 2px rgba(60, 64, 67, 0.3), 0px 1px 3px 1px rgba(60, 64, 67, 0.15);\n",
              "      fill: #174EA6;\n",
              "    }\n",
              "\n",
              "    .colab-df-buttons div {\n",
              "      margin-bottom: 4px;\n",
              "    }\n",
              "\n",
              "    [theme=dark] .colab-df-convert {\n",
              "      background-color: #3B4455;\n",
              "      fill: #D2E3FC;\n",
              "    }\n",
              "\n",
              "    [theme=dark] .colab-df-convert:hover {\n",
              "      background-color: #434B5C;\n",
              "      box-shadow: 0px 1px 3px 1px rgba(0, 0, 0, 0.15);\n",
              "      filter: drop-shadow(0px 1px 2px rgba(0, 0, 0, 0.3));\n",
              "      fill: #FFFFFF;\n",
              "    }\n",
              "  </style>\n",
              "\n",
              "    <script>\n",
              "      const buttonEl =\n",
              "        document.querySelector('#df-c071fe52-7691-42b1-b9e1-9b42138004b3 button.colab-df-convert');\n",
              "      buttonEl.style.display =\n",
              "        google.colab.kernel.accessAllowed ? 'block' : 'none';\n",
              "\n",
              "      async function convertToInteractive(key) {\n",
              "        const element = document.querySelector('#df-c071fe52-7691-42b1-b9e1-9b42138004b3');\n",
              "        const dataTable =\n",
              "          await google.colab.kernel.invokeFunction('convertToInteractive',\n",
              "                                                    [key], {});\n",
              "        if (!dataTable) return;\n",
              "\n",
              "        const docLinkHtml = 'Like what you see? Visit the ' +\n",
              "          '<a target=\"_blank\" href=https://colab.research.google.com/notebooks/data_table.ipynb>data table notebook</a>'\n",
              "          + ' to learn more about interactive tables.';\n",
              "        element.innerHTML = '';\n",
              "        dataTable['output_type'] = 'display_data';\n",
              "        await google.colab.output.renderOutput(dataTable, element);\n",
              "        const docLink = document.createElement('div');\n",
              "        docLink.innerHTML = docLinkHtml;\n",
              "        element.appendChild(docLink);\n",
              "      }\n",
              "    </script>\n",
              "  </div>\n",
              "\n",
              "\n",
              "<div id=\"df-aa7298df-8dd6-4bcb-ad81-77b5a7b172f8\">\n",
              "  <button class=\"colab-df-quickchart\" onclick=\"quickchart('df-aa7298df-8dd6-4bcb-ad81-77b5a7b172f8')\"\n",
              "            title=\"Suggest charts\"\n",
              "            style=\"display:none;\">\n",
              "\n",
              "<svg xmlns=\"http://www.w3.org/2000/svg\" height=\"24px\"viewBox=\"0 0 24 24\"\n",
              "     width=\"24px\">\n",
              "    <g>\n",
              "        <path d=\"M19 3H5c-1.1 0-2 .9-2 2v14c0 1.1.9 2 2 2h14c1.1 0 2-.9 2-2V5c0-1.1-.9-2-2-2zM9 17H7v-7h2v7zm4 0h-2V7h2v10zm4 0h-2v-4h2v4z\"/>\n",
              "    </g>\n",
              "</svg>\n",
              "  </button>\n",
              "\n",
              "<style>\n",
              "  .colab-df-quickchart {\n",
              "      --bg-color: #E8F0FE;\n",
              "      --fill-color: #1967D2;\n",
              "      --hover-bg-color: #E2EBFA;\n",
              "      --hover-fill-color: #174EA6;\n",
              "      --disabled-fill-color: #AAA;\n",
              "      --disabled-bg-color: #DDD;\n",
              "  }\n",
              "\n",
              "  [theme=dark] .colab-df-quickchart {\n",
              "      --bg-color: #3B4455;\n",
              "      --fill-color: #D2E3FC;\n",
              "      --hover-bg-color: #434B5C;\n",
              "      --hover-fill-color: #FFFFFF;\n",
              "      --disabled-bg-color: #3B4455;\n",
              "      --disabled-fill-color: #666;\n",
              "  }\n",
              "\n",
              "  .colab-df-quickchart {\n",
              "    background-color: var(--bg-color);\n",
              "    border: none;\n",
              "    border-radius: 50%;\n",
              "    cursor: pointer;\n",
              "    display: none;\n",
              "    fill: var(--fill-color);\n",
              "    height: 32px;\n",
              "    padding: 0;\n",
              "    width: 32px;\n",
              "  }\n",
              "\n",
              "  .colab-df-quickchart:hover {\n",
              "    background-color: var(--hover-bg-color);\n",
              "    box-shadow: 0 1px 2px rgba(60, 64, 67, 0.3), 0 1px 3px 1px rgba(60, 64, 67, 0.15);\n",
              "    fill: var(--button-hover-fill-color);\n",
              "  }\n",
              "\n",
              "  .colab-df-quickchart-complete:disabled,\n",
              "  .colab-df-quickchart-complete:disabled:hover {\n",
              "    background-color: var(--disabled-bg-color);\n",
              "    fill: var(--disabled-fill-color);\n",
              "    box-shadow: none;\n",
              "  }\n",
              "\n",
              "  .colab-df-spinner {\n",
              "    border: 2px solid var(--fill-color);\n",
              "    border-color: transparent;\n",
              "    border-bottom-color: var(--fill-color);\n",
              "    animation:\n",
              "      spin 1s steps(1) infinite;\n",
              "  }\n",
              "\n",
              "  @keyframes spin {\n",
              "    0% {\n",
              "      border-color: transparent;\n",
              "      border-bottom-color: var(--fill-color);\n",
              "      border-left-color: var(--fill-color);\n",
              "    }\n",
              "    20% {\n",
              "      border-color: transparent;\n",
              "      border-left-color: var(--fill-color);\n",
              "      border-top-color: var(--fill-color);\n",
              "    }\n",
              "    30% {\n",
              "      border-color: transparent;\n",
              "      border-left-color: var(--fill-color);\n",
              "      border-top-color: var(--fill-color);\n",
              "      border-right-color: var(--fill-color);\n",
              "    }\n",
              "    40% {\n",
              "      border-color: transparent;\n",
              "      border-right-color: var(--fill-color);\n",
              "      border-top-color: var(--fill-color);\n",
              "    }\n",
              "    60% {\n",
              "      border-color: transparent;\n",
              "      border-right-color: var(--fill-color);\n",
              "    }\n",
              "    80% {\n",
              "      border-color: transparent;\n",
              "      border-right-color: var(--fill-color);\n",
              "      border-bottom-color: var(--fill-color);\n",
              "    }\n",
              "    90% {\n",
              "      border-color: transparent;\n",
              "      border-bottom-color: var(--fill-color);\n",
              "    }\n",
              "  }\n",
              "</style>\n",
              "\n",
              "  <script>\n",
              "    async function quickchart(key) {\n",
              "      const quickchartButtonEl =\n",
              "        document.querySelector('#' + key + ' button');\n",
              "      quickchartButtonEl.disabled = true;  // To prevent multiple clicks.\n",
              "      quickchartButtonEl.classList.add('colab-df-spinner');\n",
              "      try {\n",
              "        const charts = await google.colab.kernel.invokeFunction(\n",
              "            'suggestCharts', [key], {});\n",
              "      } catch (error) {\n",
              "        console.error('Error during call to suggestCharts:', error);\n",
              "      }\n",
              "      quickchartButtonEl.classList.remove('colab-df-spinner');\n",
              "      quickchartButtonEl.classList.add('colab-df-quickchart-complete');\n",
              "    }\n",
              "    (() => {\n",
              "      let quickchartButtonEl =\n",
              "        document.querySelector('#df-aa7298df-8dd6-4bcb-ad81-77b5a7b172f8 button');\n",
              "      quickchartButtonEl.style.display =\n",
              "        google.colab.kernel.accessAllowed ? 'block' : 'none';\n",
              "    })();\n",
              "  </script>\n",
              "</div>\n",
              "    </div>\n",
              "  </div>\n"
            ],
            "application/vnd.google.colaboratory.intrinsic+json": {
              "type": "dataframe",
              "variable_name": "randomly_selected_data",
              "summary": "{\n  \"name\": \"randomly_selected_data\",\n  \"rows\": 1287,\n  \"fields\": [\n    {\n      \"column\": \"Image_name\",\n      \"properties\": {\n        \"dtype\": \"string\",\n        \"num_unique_values\": 1287,\n        \"samples\": [\n          \"Patient01551_Plane1_5_of_22\",\n          \"Patient01246_Plane5_1_of_2\",\n          \"Patient01047_Plane5_2_of_2\"\n        ],\n        \"semantic_type\": \"\",\n        \"description\": \"\"\n      }\n    },\n    {\n      \"column\": \"Patient_num\",\n      \"properties\": {\n        \"dtype\": \"number\",\n        \"std\": 420,\n        \"min\": 4,\n        \"max\": 1792,\n        \"num_unique_values\": 783,\n        \"samples\": [\n          1451,\n          268,\n          708\n        ],\n        \"semantic_type\": \"\",\n        \"description\": \"\"\n      }\n    },\n    {\n      \"column\": \"Plane\",\n      \"properties\": {\n        \"dtype\": \"category\",\n        \"num_unique_values\": 9,\n        \"samples\": [\n          \"Fetal brain Trans-ventricular\",\n          \"Fetal abdomen\",\n          \"Fetal brain Trans-cerebellum\"\n        ],\n        \"semantic_type\": \"\",\n        \"description\": \"\"\n      }\n    },\n    {\n      \"column\": \"Brain_plane\",\n      \"properties\": {\n        \"dtype\": \"category\",\n        \"num_unique_values\": 5,\n        \"samples\": [\n          \"Not A Brain\",\n          \"Trans-ventricular\",\n          \"Trans-thalamic\"\n        ],\n        \"semantic_type\": \"\",\n        \"description\": \"\"\n      }\n    },\n    {\n      \"column\": \"Operator\",\n      \"properties\": {\n        \"dtype\": \"category\",\n        \"num_unique_values\": 4,\n        \"samples\": [\n          \"Other\",\n          \"Op. 3\",\n          \"Op. 2\"\n        ],\n        \"semantic_type\": \"\",\n        \"description\": \"\"\n      }\n    },\n    {\n      \"column\": \"US_Machine\",\n      \"properties\": {\n        \"dtype\": \"category\",\n        \"num_unique_values\": 4,\n        \"samples\": [\n          \"Voluson S10\",\n          \"Other\",\n          \"Voluson E6\"\n        ],\n        \"semantic_type\": \"\",\n        \"description\": \"\"\n      }\n    },\n    {\n      \"column\": \"Train \",\n      \"properties\": {\n        \"dtype\": \"number\",\n        \"std\": 0,\n        \"min\": 0,\n        \"max\": 1,\n        \"num_unique_values\": 2,\n        \"samples\": [\n          0,\n          1\n        ],\n        \"semantic_type\": \"\",\n        \"description\": \"\"\n      }\n    }\n  ]\n}"
            }
          },
          "metadata": {},
          "execution_count": 54
        }
      ],
      "source": [
        "randomly_selected_data"
      ]
    },
    {
      "cell_type": "code",
      "execution_count": 55,
      "metadata": {
        "colab": {
          "base_uri": "https://localhost:8080/"
        },
        "id": "490lMHP06BMw",
        "outputId": "f655b8f1-6579-49b1-fe35-56d404f6c367"
      },
      "outputs": [
        {
          "output_type": "stream",
          "name": "stdout",
          "text": [
            "Plane\n",
            "Fetal brain Other                143\n",
            "Fetal abdomen                    143\n",
            "Fetal thorax                     143\n",
            "Maternal cervix                  143\n",
            "Fetal brain Trans-thalamic       143\n",
            "Fetal brain Trans-cerebellum     143\n",
            "Other                            143\n",
            "Fetal brain Trans-ventricular    143\n",
            "Fetal femur                      143\n",
            "Name: count, dtype: int64\n",
            "The length of the df 1287\n"
          ]
        }
      ],
      "source": [
        "class_counts = randomly_selected_data['Plane'].value_counts()\n",
        "total_count = len(randomly_selected_data)\n",
        "\n",
        "# Display the result\n",
        "print(class_counts)\n",
        "print(\"The length of the df\" , total_count)"
      ]
    },
    {
      "cell_type": "code",
      "execution_count": 56,
      "metadata": {
        "colab": {
          "base_uri": "https://localhost:8080/"
        },
        "id": "DbRidWfw6I2U",
        "outputId": "80db4f02-7352-4504-b00a-748bd6b83b52"
      },
      "outputs": [
        {
          "output_type": "stream",
          "name": "stdout",
          "text": [
            "Plane\n",
            "Fetal brain Other                11.111111\n",
            "Fetal abdomen                    11.111111\n",
            "Fetal thorax                     11.111111\n",
            "Maternal cervix                  11.111111\n",
            "Fetal brain Trans-thalamic       11.111111\n",
            "Fetal brain Trans-cerebellum     11.111111\n",
            "Other                            11.111111\n",
            "Fetal brain Trans-ventricular    11.111111\n",
            "Fetal femur                      11.111111\n",
            "Name: count, dtype: float64\n"
          ]
        }
      ],
      "source": [
        "# Calculate the percentage for each class\n",
        "percentages = (class_counts / total_count) * 100\n",
        "\n",
        "# Display the result\n",
        "print(percentages)"
      ]
    },
    {
      "cell_type": "code",
      "source": [
        "X,Y = randomly_selected_data[\"Image_name\"], randomly_selected_data[\"Plane\"]"
      ],
      "metadata": {
        "id": "2JReCqkLGgCt"
      },
      "execution_count": 274,
      "outputs": []
    },
    {
      "cell_type": "code",
      "source": [
        "from sklearn.preprocessing import LabelEncoder\n",
        "\n",
        "# Initialize LabelEncoder\n",
        "label_encoder = LabelEncoder()\n",
        "\n",
        "# Fit label encoder and transform Y\n",
        "Y_encoded = label_encoder.fit_transform(Y)\n",
        "\n",
        "print(\"Original labels:\", Y)\n",
        "print(\"Encoded labels:\", Y_encoded)"
      ],
      "metadata": {
        "colab": {
          "base_uri": "https://localhost:8080/"
        },
        "id": "Ugxwle_jpYTS",
        "outputId": "fac25a0e-ae37-4592-f95c-f213dbf4455f"
      },
      "execution_count": 303,
      "outputs": [
        {
          "output_type": "stream",
          "name": "stdout",
          "text": [
            "Original labels: 0                   Fetal brain Other\n",
            "1                       Fetal abdomen\n",
            "2                        Fetal thorax\n",
            "3                       Fetal abdomen\n",
            "4                   Fetal brain Other\n",
            "                    ...              \n",
            "1282    Fetal brain Trans-ventricular\n",
            "1283    Fetal brain Trans-ventricular\n",
            "1284    Fetal brain Trans-ventricular\n",
            "1285                     Fetal thorax\n",
            "1286    Fetal brain Trans-ventricular\n",
            "Name: Plane, Length: 1287, dtype: object\n",
            "Encoded labels: [1 0 6 ... 4 6 4]\n"
          ]
        }
      ]
    },
    {
      "cell_type": "code",
      "source": [
        "from sklearn.model_selection import train_test_split\n",
        "X_train, X_temp, y_train, y_temp = train_test_split(X, Y_encoded, test_size=0.3, random_state=42)\n",
        "X_val, X_test, y_val, y_test = train_test_split(X_temp, y_temp, test_size=0.5, random_state=42)"
      ],
      "metadata": {
        "id": "6BXK0_snHCyu"
      },
      "execution_count": 305,
      "outputs": []
    },
    {
      "cell_type": "code",
      "execution_count": 278,
      "metadata": {
        "id": "emHJif_V6PMj"
      },
      "outputs": [],
      "source": [
        "import torch\n",
        "from torch.utils.data import Dataset\n",
        "from torchvision import transforms\n",
        "from PIL import Image"
      ]
    },
    {
      "cell_type": "code",
      "execution_count": 279,
      "metadata": {
        "colab": {
          "base_uri": "https://localhost:8080/"
        },
        "id": "orkwlLlcCZUz",
        "outputId": "c6d4cb99-eb14-4fc2-d653-b1cafc117371"
      },
      "outputs": [
        {
          "output_type": "stream",
          "name": "stdout",
          "text": [
            "Current working directory: /content/FETAL_PLANES_ZENODO\n"
          ]
        }
      ],
      "source": [
        "current_directory = os.getcwd()\n",
        "print(\"Current working directory:\",current_directory)"
      ]
    },
    {
      "cell_type": "code",
      "execution_count": 378,
      "metadata": {
        "id": "wmAWl64W8jYT"
      },
      "outputs": [],
      "source": [
        "class FetailImageDataset(Dataset):\n",
        "    def __init__(self, X , Y, transform=None):\n",
        "        self.image_name = X\n",
        "        self.labels = Y\n",
        "        self.transform = transform\n",
        "\n",
        "    def __len__(self):\n",
        "        return len(self.labels)\n",
        "\n",
        "    def __getitem__(self, idx):\n",
        "        img_name = self.image_name.iloc[idx]\n",
        "        img_path = os.path.join(\"Images/\", img_name + \".png\")\n",
        "\n",
        "        # Open image\n",
        "        img = Image.open(img_path)\n",
        "\n",
        "        # Convert label to PyTorch tensor\n",
        "        label = self.labels[idx]\n",
        "\n",
        "        # Apply transforms if available\n",
        "        if self.transform:\n",
        "            img = self.transform(img)\n",
        "\n",
        "        return img, label"
      ]
    },
    {
      "cell_type": "code",
      "execution_count": 409,
      "metadata": {
        "id": "lmuGgT-Z8w-_"
      },
      "outputs": [],
      "source": [
        "transform = transforms.Compose([\n",
        "    transforms.Resize((100, 100)),  # Resize image to a fixed size\n",
        "    transforms.Grayscale(num_output_channels=1),\n",
        "    transforms.ToTensor(),           # Convert PIL image to tensor\n",
        "])"
      ]
    },
    {
      "cell_type": "code",
      "execution_count": 426,
      "metadata": {
        "id": "jnc9Gbau83Ii"
      },
      "outputs": [],
      "source": [
        "train_Dataset = FetailImageDataset(X_train,y_train, transform=transform)\n",
        "test_Dataset = FetailImageDataset(X_test,y_test, transform=transform)\n",
        "val_Dataset = FetailImageDataset(X_val,y_val, transform=transform)"
      ]
    },
    {
      "cell_type": "code",
      "source": [
        "y_train[0]"
      ],
      "metadata": {
        "colab": {
          "base_uri": "https://localhost:8080/"
        },
        "id": "l79jeImTrwZb",
        "outputId": "606a0f9a-4054-494c-a20b-a8e326a8bac5"
      },
      "execution_count": 411,
      "outputs": [
        {
          "output_type": "execute_result",
          "data": {
            "text/plain": [
              "8"
            ]
          },
          "metadata": {},
          "execution_count": 411
        }
      ]
    },
    {
      "cell_type": "code",
      "source": [
        "from torch.utils.data import DataLoader"
      ],
      "metadata": {
        "id": "L0N6kxWoJCaz"
      },
      "execution_count": 412,
      "outputs": []
    },
    {
      "cell_type": "code",
      "source": [
        "batch_size = 32\n",
        "\n",
        "train_loader = DataLoader(train_Dataset, batch_size=batch_size, shuffle=True)\n",
        "test_loader = DataLoader(test_Dataset, batch_size=batch_size, shuffle=False)\n",
        "val_loader = DataLoader(val_Dataset, batch_size=batch_size, shuffle=False)"
      ],
      "metadata": {
        "id": "Gur2uTc8JC-o"
      },
      "execution_count": 428,
      "outputs": []
    },
    {
      "cell_type": "code",
      "source": [
        "img ,label = train_Dataset[0]"
      ],
      "metadata": {
        "id": "scE5CbB9JG5u"
      },
      "execution_count": 414,
      "outputs": []
    },
    {
      "cell_type": "code",
      "source": [
        "img.shape"
      ],
      "metadata": {
        "colab": {
          "base_uri": "https://localhost:8080/"
        },
        "id": "8TibKLhWJcCY",
        "outputId": "9bd909b8-d1ac-4b02-8418-290ad102176d"
      },
      "execution_count": 415,
      "outputs": [
        {
          "output_type": "execute_result",
          "data": {
            "text/plain": [
              "torch.Size([1, 100, 100])"
            ]
          },
          "metadata": {},
          "execution_count": 415
        }
      ]
    },
    {
      "cell_type": "code",
      "source": [
        "label"
      ],
      "metadata": {
        "colab": {
          "base_uri": "https://localhost:8080/"
        },
        "id": "Z_31Ip6WrPu4",
        "outputId": "cec66884-6184-4497-f7ce-80a3f439de84"
      },
      "execution_count": 416,
      "outputs": [
        {
          "output_type": "execute_result",
          "data": {
            "text/plain": [
              "8"
            ]
          },
          "metadata": {},
          "execution_count": 416
        }
      ]
    },
    {
      "cell_type": "code",
      "source": [
        "img ,label = train_Dataset[30]"
      ],
      "metadata": {
        "id": "Jpa-KUqBqk8V"
      },
      "execution_count": 417,
      "outputs": []
    },
    {
      "cell_type": "code",
      "source": [
        "img.shape"
      ],
      "metadata": {
        "colab": {
          "base_uri": "https://localhost:8080/"
        },
        "id": "02q-IaOwqraW",
        "outputId": "17d4bb6e-c978-40d7-e6dc-88f6a770fbe3"
      },
      "execution_count": 418,
      "outputs": [
        {
          "output_type": "execute_result",
          "data": {
            "text/plain": [
              "torch.Size([1, 100, 100])"
            ]
          },
          "metadata": {},
          "execution_count": 418
        }
      ]
    },
    {
      "cell_type": "code",
      "source": [
        "import torch\n",
        "import torch.nn as nn\n",
        "\n",
        "class fetalModel(torch.nn.Module):\n",
        "\n",
        "    def __init__(self):\n",
        "        super(fetalModel, self).__init__()\n",
        "\n",
        "        # Define convolutional layer\n",
        "        self.conv1 = nn.Conv2d(in_channels=1, out_channels=3, kernel_size=3, stride=1, padding=1)\n",
        "        self.activation = nn.ReLU()\n",
        "        self.pool = nn.MaxPool2d(kernel_size=3, stride=1)\n",
        "\n",
        "        # Define fully connected layers\n",
        "        self.fc1 = nn.Linear(3*98*98,200)\n",
        "        self.fc2 = nn.Linear(200, 9)  # Adjusted to have 9 output labels\n",
        "\n",
        "    def forward(self, x):\n",
        "\n",
        "        # Apply convolutional layers\n",
        "        x = self.pool(self.activation(self.conv1(x)))\n",
        "\n",
        "        # Flatten the output before passing to fully connected layer\n",
        "        m = nn.Flatten()\n",
        "        x = m(x)\n",
        "\n",
        "        # Apply fully connected layers\n",
        "        x = self.activation(self.fc1(x))\n",
        "        x = self.fc2(x)\n",
        "\n",
        "        return x"
      ],
      "metadata": {
        "id": "DT2j0ZXWKAFq"
      },
      "execution_count": 419,
      "outputs": []
    },
    {
      "cell_type": "code",
      "source": [
        "import torch.optim as optim\n",
        "\n",
        "learning_rate = 0.001\n",
        "num_epochs = 10\n",
        "\n",
        "# Initialize model\n",
        "model = fetalModel()\n",
        "\n",
        "# Define loss function\n",
        "criterion = nn.CrossEntropyLoss()\n",
        "\n",
        "# Define optimizer\n",
        "optimizer = optim.Adam(model.parameters(), lr=learning_rate)"
      ],
      "metadata": {
        "id": "RPOqHdq9NRPs"
      },
      "execution_count": 420,
      "outputs": []
    },
    {
      "cell_type": "code",
      "source": [
        "for epoch in range(num_epochs):\n",
        "    running_loss = 0.0\n",
        "    for inputs, labels in train_loader:\n",
        "        # Zero the gradients\n",
        "        optimizer.zero_grad()\n",
        "\n",
        "        # Forward pass\n",
        "        outputs = model(inputs)\n",
        "        # Compute loss\n",
        "        loss = criterion(outputs, labels)\n",
        "\n",
        "        # Backward pass\n",
        "        loss.backward()\n",
        "\n",
        "        # Update model parameters\n",
        "        optimizer.step()\n",
        "\n",
        "        # Print statistics\n",
        "        running_loss += loss.item() * inputs.size(0)\n",
        "\n",
        "    # Print epoch statistics\n",
        "    epoch_loss = running_loss / len(train_Dataset)\n",
        "    print(f\"Epoch [{epoch+1}/{num_epochs}], Loss: {epoch_loss:.4f}\")"
      ],
      "metadata": {
        "colab": {
          "base_uri": "https://localhost:8080/"
        },
        "id": "OMyehJRLNrC4",
        "outputId": "69048e8a-6171-44f7-e34c-ce3f858b1d0c"
      },
      "execution_count": 421,
      "outputs": [
        {
          "output_type": "stream",
          "name": "stdout",
          "text": [
            "Epoch [1/10], Loss: 1.9251\n",
            "Epoch [2/10], Loss: 1.4148\n",
            "Epoch [3/10], Loss: 1.2732\n",
            "Epoch [4/10], Loss: 1.1291\n",
            "Epoch [5/10], Loss: 0.9135\n",
            "Epoch [6/10], Loss: 0.8293\n",
            "Epoch [7/10], Loss: 0.7247\n",
            "Epoch [8/10], Loss: 0.5914\n",
            "Epoch [9/10], Loss: 0.4551\n",
            "Epoch [10/10], Loss: 0.4031\n"
          ]
        }
      ]
    },
    {
      "cell_type": "code",
      "source": [
        "model.eval()  # Set model to evaluation mode\n",
        "\n",
        "correct = 0\n",
        "total = 0\n",
        "\n",
        "with torch.no_grad():  # Disable gradient calculation for inference\n",
        "    for inputs, labels in train_loader:\n",
        "        # Forward pass\n",
        "        outputs = model(inputs)\n",
        "\n",
        "        # Get predicted labels\n",
        "        _, predicted = torch.max(outputs, 1)\n",
        "\n",
        "        # Total number of labels\n",
        "        total += labels.size(0)\n",
        "\n",
        "        # Total correct predictions\n",
        "        correct += (predicted == labels).sum().item()\n",
        "\n",
        "# Calculate accuracy\n",
        "accuracy = correct / total\n",
        "print('Accuracy on training set: {:.2%}'.format(accuracy))"
      ],
      "metadata": {
        "colab": {
          "base_uri": "https://localhost:8080/"
        },
        "id": "_UvDL8wy1btB",
        "outputId": "06eec72b-42af-4c8a-c08c-c29194c9f3bb"
      },
      "execution_count": 423,
      "outputs": [
        {
          "output_type": "stream",
          "name": "stdout",
          "text": [
            "Accuracy on training set: 87.89%\n"
          ]
        }
      ]
    },
    {
      "cell_type": "code",
      "source": [
        "model.eval()  # Set model to evaluation mode\n",
        "\n",
        "correct = 0\n",
        "total = 0\n",
        "\n",
        "with torch.no_grad():  # Disable gradient calculation for inference\n",
        "\n",
        "    for inputs, labels in val_loader:\n",
        "\n",
        "        # Forward pass\n",
        "        outputs = model(inputs)\n",
        "\n",
        "        # Get predicted labels\n",
        "        _, predicted = torch.max(outputs, 1)\n",
        "\n",
        "        # Total number of labels\n",
        "        total += labels.size(0)\n",
        "\n",
        "        # Total correct predictions\n",
        "        correct += (predicted == labels).sum().item()\n",
        "\n",
        "# Calculate accuracy\n",
        "accuracy = correct / total\n",
        "print('Accuracy on validation set: {:.2%}'.format(accuracy))"
      ],
      "metadata": {
        "colab": {
          "base_uri": "https://localhost:8080/"
        },
        "id": "h2jakL_T2H9I",
        "outputId": "d7dc76c3-1c88-4504-834a-0b6d0b341672"
      },
      "execution_count": 429,
      "outputs": [
        {
          "output_type": "stream",
          "name": "stdout",
          "text": [
            "Accuracy on validation set: 50.26%\n"
          ]
        }
      ]
    },
    {
      "cell_type": "code",
      "source": [],
      "metadata": {
        "id": "acyuNCZB35RX"
      },
      "execution_count": null,
      "outputs": []
    }
  ],
  "metadata": {
    "colab": {
      "provenance": [],
      "mount_file_id": "1BcQ7FnAPKl2tCsgFMYBt3jm-VYBxakHL",
      "authorship_tag": "ABX9TyPJjes8bb/ATk+ApAVlk4gX",
      "include_colab_link": true
    },
    "kernelspec": {
      "display_name": "Python 3",
      "name": "python3"
    },
    "language_info": {
      "name": "python"
    }
  },
  "nbformat": 4,
  "nbformat_minor": 0
}